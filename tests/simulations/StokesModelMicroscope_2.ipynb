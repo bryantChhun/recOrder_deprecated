{
 "cells": [
  {
   "cell_type": "code",
   "execution_count": 23,
   "metadata": {},
   "outputs": [],
   "source": [
    "from __future__ import print_function\n",
    "%matplotlib inline\n",
    "import matplotlib.pyplot as plt\n",
    "import numpy as np\n",
    "\n",
    "import cv2\n",
    "\n",
    "#from ipywidgets import interact, interactive, fixed, interact_manual\n",
    "#import ipywidgets as widgets\n",
    "#from matplotlib.patches import Ellipse\n",
    "#def extents(f):\n",
    "#  delta = f[1] - f[0]\n",
    "#  return [f[0] - delta/2, f[-1] + delta/2]\n"
   ]
  },
  {
   "cell_type": "markdown",
   "metadata": {},
   "source": [
    "# Forward model: specimen -> Intensity"
   ]
  },
  {
   "cell_type": "markdown",
   "metadata": {},
   "source": [
    "## Specimen properties"
   ]
  },
  {
   "cell_type": "markdown",
   "metadata": {},
   "source": [
    "### Case 1: retardance varies from 0 to full-wave"
   ]
  },
  {
   "cell_type": "code",
   "execution_count": 25,
   "metadata": {},
   "outputs": [],
   "source": [
    "# coordinate grid\n",
    "x = np.linspace(-1.5,1.5,1024)\n",
    "xx, yy = np.meshgrid(x,x)\n",
    "\n",
    "# retardance: increases from 0 to full-wave (2pi) over radius of 1, and then stays constant\n",
    "retardance = 2*np.pi*np.sqrt(xx**2+yy**2)\n",
    "retardance[retardance >2*np.pi] = 2*np.pi\n",
    "\n",
    "\n",
    "# slowaxis assumed to rotate azimuthally. \n",
    "slowaxis = np.arctan2(yy,xx)%np.pi\n",
    "\n",
    "\n",
    "# constant transmission and polarization\n",
    "transmission=np.ones(xx.shape)\n",
    "polarization=np.ones(xx.shape)"
   ]
  },
  {
   "cell_type": "markdown",
   "metadata": {},
   "source": [
    "### Case 2: retardance constant at half-wave"
   ]
  },
  {
   "cell_type": "code",
   "execution_count": 13,
   "metadata": {},
   "outputs": [],
   "source": [
    "# coordinate grid\n",
    "\n",
    "x = np.linspace(-1.5,1.5,1024)\n",
    "xx, yy = np.meshgrid(x,x)\n",
    "\n",
    "# retardance: increases from 0 to full-wave (2pi) over radius of 1, and then stays constant\n",
    "retardance = np.pi*np.ones(xx.shape)\n",
    "\n",
    "\n",
    "# slowaxis assumed to rotate azimuthally. \n",
    "slowaxis = np.arctan2(yy,xx)%np.pi\n",
    "\n",
    "\n",
    "# constant transmission and polarization\n",
    "transmission=np.ones(xx.shape)\n",
    "polarization=np.ones(xx.shape)"
   ]
  },
  {
   "cell_type": "markdown",
   "metadata": {},
   "source": [
    "### Case 3: retardance constant at quarter-wave "
   ]
  },
  {
   "cell_type": "code",
   "execution_count": 32,
   "metadata": {},
   "outputs": [],
   "source": [
    "# coordinate grid\n",
    "\n",
    "x = np.linspace(-1.5,1.5,1024)\n",
    "xx, yy = np.meshgrid(x,x)\n",
    "\n",
    "# retardance: increases from 0 to full-wave (2pi) over radius of 1, and then stays constant\n",
    "retardance = 0.5*np.pi*np.ones(xx.shape)\n",
    "\n",
    "\n",
    "# slowaxis assumed to rotate azimuthally. \n",
    "slowaxis = np.arctan2(yy,xx)%np.pi\n",
    "\n",
    "\n",
    "# constant transmission and polarization\n",
    "transmission=np.ones(xx.shape)\n",
    "polarization=np.ones(xx.shape)"
   ]
  },
  {
   "cell_type": "markdown",
   "metadata": {},
   "source": [
    "### Plot retardance, slow-axis, transmission, and polarization"
   ]
  },
  {
   "cell_type": "code",
   "execution_count": null,
   "metadata": {},
   "outputs": [],
   "source": [
    "xyextent=[-1.5,1.5,-1.5,1.5]\n",
    "\n",
    "fig1 = plt.figure(figsize=(20,20)) # create a figure with the default size \n",
    "\n",
    "ax1 = fig1.add_subplot(2,2,1) \n",
    "im=plt.imshow(retardance,cmap='gray',extent=xyextent, origin='lower');\n",
    "plt.title('retardance')\n",
    "ax1.figure.colorbar(im);\n",
    "\n",
    "ax2=fig1.add_subplot(2,2,2)\n",
    "im=plt.imshow(slowaxis,cmap='twilight', extent=xyextent, origin='lower'); # Need to adapt this look up table to represent orientation.\n",
    "plt.title('slow axis')\n",
    "ax2.figure.colorbar(im);\n",
    "\n",
    "ax3=fig1.add_subplot(2,2,3)\n",
    "im=plt.imshow(transmission,cmap='gray',extent=xyextent, origin='lower');\n",
    "plt.title('transmission')\n",
    "ax3.figure.colorbar(im);\n",
    "\n",
    "ax4=fig1.add_subplot(2,2,4)\n",
    "im=plt.imshow(polarization,cmap='gray',extent=xyextent, origin='lower');\n",
    "plt.title('polarization')\n",
    "ax4.figure.colorbar(im);\n"
   ]
  },
  {
   "cell_type": "code",
   "execution_count": 33,
   "metadata": {},
   "outputs": [],
   "source": [
    "np.save('./tests/testData/reconData/simulated/quarter_wave/retardance.png', retardance)\n",
    "np.save('./tests/testData/reconData/simulated/quarter_wave/slowaxis.png', slowaxis)\n",
    "np.save('./tests/testData/reconData/simulated/quarter_wave/transmission.png', transmission)\n",
    "np.save('./tests/testData/reconData/simulated/quarter_wave/polarization.png', polarization)\n"
   ]
  },
  {
   "cell_type": "markdown",
   "metadata": {},
   "source": [
    "## Stokes parameters with right circularly polarized illumination"
   ]
  },
  {
   "cell_type": "code",
   "execution_count": 34,
   "metadata": {},
   "outputs": [],
   "source": [
    "# Assumptions: right circularly polarized input. \n",
    "s0=transmission\n",
    "s1=transmission*polarization*np.sin(2*slowaxis)*np.sin(retardance)\n",
    "s2=-transmission*polarization*np.cos(2*slowaxis)*np.sin(retardance)\n",
    "s3=transmission*polarization*np.cos(retardance)\n",
    "\n",
    "fig2 = plt.figure(figsize=(20,20)) # create a figure with the default size \n",
    "\n",
    "ax1 = fig2.add_subplot(2,2,1) \n",
    "im=plt.imshow(s0,cmap='gray',extent=xyextent, origin='lower');\n",
    "plt.title('s0')\n",
    "ax1.figure.colorbar(im);\n",
    "\n",
    "ax2=fig2.add_subplot(2,2,2)\n",
    "im=plt.imshow(s1,cmap='gray',extent=xyextent, origin='lower'); # Need to adapt this look up table to represent orientation.\n",
    "plt.title('s1')\n",
    "ax2.figure.colorbar(im);\n",
    "\n",
    "ax3=fig2.add_subplot(2,2,3)\n",
    "im=plt.imshow(s2,cmap='gray',extent=xyextent, origin='lower');\n",
    "plt.title('s2')\n",
    "ax3.figure.colorbar(im);\n",
    "\n",
    "ax4=fig2.add_subplot(2,2,4)\n",
    "im=plt.imshow(s3,cmap='gray',extent=xyextent, origin='lower');\n",
    "plt.title('s3')\n",
    "ax4.figure.colorbar(im);\n"
   ]
  },
  {
   "cell_type": "code",
   "execution_count": 35,
   "metadata": {},
   "outputs": [],
   "source": [
    "np.save('./tests/testData/rawData/simulated/quarter_wave/s0.png', s0)\n",
    "np.save('./tests/testData/rawData/simulated/quarter_wave/s1.png', s1)\n",
    "np.save('./tests/testData/rawData/simulated/quarter_wave/s2.png', s2)\n",
    "np.save('./tests/testData/rawData/simulated/quarter_wave/s3.png', s3)\n"
   ]
  },
  {
   "cell_type": "markdown",
   "metadata": {},
   "source": [
    "## Intensity images"
   ]
  },
  {
   "cell_type": "code",
   "execution_count": 36,
   "metadata": {},
   "outputs": [],
   "source": [
    "height,width=s0.shape\n",
    "s=np.zeros((4,height,width))\n",
    "s[0,:,:]=s0;  s[1,:,:]=s1; s[2,:,:]=s2; s[3,:,:]=s3;\n",
    "\n",
    "\"\"\"\n",
    "Swing of 0.25 or quarter-wave leads to linear analysis states. \n",
    "Since S1=I0-I90 and S2=I45-I135, the intensity patterns generated by \n",
    "\"\"\"\n",
    "chi=2*np.pi*0.25\n",
    "StoIMatLC=np.array([ [1, 0, 0, -1],\n",
    "                     [1, np.sin(chi), 0, -np.cos(chi)],\n",
    "                     [1, 0, np.sin(chi), -np.cos(chi)],\n",
    "                     [1, -np.sin(chi), 0, -np.cos(chi)],\n",
    "                     [1, 0, -np.sin(chi), -np.cos(chi)]])\n",
    "Svec=s.reshape(4,height*width)\n",
    "Ivec=np.dot(StoIMatLC,Svec)\n",
    "I=Ivec.reshape(5,height,width)\n",
    "Iext=I[0,:,:]; I0=I[1,:,:]; I45=I[2,:,:]; I90=I[3,:,:]; I135=I[4,:,:];\n"
   ]
  },
  {
   "cell_type": "code",
   "execution_count": 30,
   "metadata": {},
   "outputs": [],
   "source": [
    "fig3 = plt.figure(figsize=(20,30)) # create a figure with the default size\n",
    "\n",
    "ax1 = fig3.add_subplot(3,2,1) \n",
    "im=plt.imshow(Iext,cmap='gray',extent=xyextent,origin='lower');\n",
    "plt.title('Iext')\n",
    "ax1.figure.colorbar(im);\n",
    "\n",
    "ax2=fig3.add_subplot(3,2,3)\n",
    "im=plt.imshow(I0,cmap='gray',extent=xyextent,origin='lower'); # Need to adapt this look up table to represent orientation.\n",
    "plt.title('I0')\n",
    "ax2.figure.colorbar(im);\n",
    "\n",
    "ax3=fig3.add_subplot(3,2,4)\n",
    "im=plt.imshow(I45,cmap='gray',extent=xyextent,origin='lower');\n",
    "plt.title('I45')\n",
    "ax3.figure.colorbar(im);\n",
    "\n",
    "ax4=fig3.add_subplot(3,2,5)\n",
    "im=plt.imshow(I90,cmap='gray',extent=xyextent,origin='lower');\n",
    "plt.title('I90')\n",
    "ax4.figure.colorbar(im);\n",
    "\n",
    "ax5=fig3.add_subplot(3,2,6)\n",
    "im=plt.imshow(I135,cmap='gray',extent=xyextent,origin='lower');\n",
    "plt.title('I135')\n",
    "ax4.figure.colorbar(im);\n"
   ]
  },
  {
   "cell_type": "code",
   "execution_count": 37,
   "metadata": {},
   "outputs": [],
   "source": [
    "np.save('./tests/testData/rawData/simulated/quarter_wave/Iext', Iext)\n",
    "np.save('./tests/testData/rawData/simulated/quarter_wave/I0', I0)\n",
    "np.save('./tests/testData/rawData/simulated/quarter_wave/I45', I45)\n",
    "np.save('./tests/testData/rawData/simulated/quarter_wave/I90', I90)\n",
    "np.save('./tests/testData/rawData/simulated/quarter_wave/I135', I135)"
   ]
  },
  {
   "cell_type": "code",
   "execution_count": null,
   "metadata": {},
   "outputs": [],
   "source": [
    ""
   ]
  }
 ],
 "metadata": {
  "kernelspec": {
   "display_name": "Python 3",
   "language": "python",
   "name": "python3"
  },
  "language_info": {
   "codemirror_mode": {
    "name": "ipython",
    "version": 3
   },
   "file_extension": ".py",
   "mimetype": "text/x-python",
   "name": "python",
   "nbconvert_exporter": "python",
   "pygments_lexer": "ipython3",
   "version": "3.6.7"
  }
 },
 "nbformat": 4,
 "nbformat_minor": 1
}
