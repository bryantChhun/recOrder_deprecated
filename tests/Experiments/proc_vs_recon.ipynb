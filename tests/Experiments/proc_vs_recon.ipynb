{
 "cells": [
  {
   "cell_type": "code",
   "execution_count": 1,
   "metadata": {
    "collapsed": true
   },
   "outputs": [
    {
     "data": {
      "text/plain": [
       "'\\nThis notebook compares data reconstructed using Syuan-ming\\'s code directly (by me), with data reconstructed by Syuan-ming.\\nI calculate an MSE to compare.  My data is in folder \"Processed\", while Syuan-mings is in folder \"reconData\"\\n\\nResults:\\n    Recon data is identical.  There is no difference in how Syuan-ming executes his code and the way I executed it.\\n    We can use this MSE framework as a means of evaluating data quality\\n    There are additional post processing steps Syuan-ming does to render images, which are not a part of the core ReconstructOrder algorithm\\n    \\n'"
      ]
     },
     "execution_count": 1,
     "metadata": {},
     "output_type": "execute_result"
    }
   ],
   "source": [
    "\"\"\"\n",
    "This notebook compares data reconstructed using Syuan-ming's code directly (by me), with data reconstructed by Syuan-ming.\n",
    "I calculate an MSE to compare.  My data is in folder \"Processed\", while Syuan-mings is in folder \"reconData\"\n",
    "\n",
    "Results:\n",
    "    Recon data is identical.  There is no difference in how Syuan-ming executes his code and the way I executed it.\n",
    "    We can use this MSE framework as a means of evaluating data quality\n",
    "    There are additional post processing steps Syuan-ming does to render images, which are not a part of the core ReconstructOrder algorithm\n",
    "    \n",
    "\"\"\""
   ]
  },
  {
   "cell_type": "code",
   "execution_count": 3,
   "metadata": {
    "collapsed": true
   },
   "outputs": [],
   "source": [
    "import numpy as np\n",
    "import unittest\n",
    "\n",
    "import cv2\n",
    "\n",
    "from src.DataPipe.PipeToReconOrder import PipeToReconOrder\n",
    "from src.Processing.ReconOrder import ReconOrder\n",
    "from tests.testMetrics import mse\n",
    "\n",
    "import os\n",
    "from IPython.core.interactiveshell import InteractiveShell\n",
    "InteractiveShell.ast_node_interactivity = 'all'\n"
   ]
  },
  {
   "cell_type": "code",
   "execution_count": 4,
   "metadata": {},
   "outputs": [],
   "source": [
    "targetRecon = \"./tests/testData/reconData/2018_10_02_MouseBrainSlice/\"\n",
    "conditionRecon = \"SM_2018_1002_1633_1_BG_2018_1002_1625_1\"\n",
    "target_ITrans_Recon = targetRecon + \\\n",
    "                     conditionRecon + \\\n",
    "                     \"/img_Transmission_t000_p000_z000.tif\"\n",
    "target_retard_Recon = targetRecon + \\\n",
    "                     conditionRecon + \\\n",
    "                     \"/img_Retardance_t000_p000_z000.tif\"\n",
    "target_Orientation_Recon = targetRecon + \\\n",
    "                     conditionRecon + \\\n",
    "                     \"/img_Orientation_t000_p000_z000.tif\"\n",
    "target_Scattering_Recon = targetRecon + \\\n",
    "                     conditionRecon + \\\n",
    "                     \"/img_Scattering_t000_p000_z000.tif\""
   ]
  },
  {
   "cell_type": "code",
   "execution_count": 5,
   "metadata": {},
   "outputs": [],
   "source": [
    "targetData = \"./tests/testData/Processed2/2018_10_02_MouseBrainSlice/\"\n",
    "condition = \"SM_2018_1002_1633_1_BG_2018_1002_1625_1\"\n",
    "\n",
    "target_ITrans = targetData + \\\n",
    "                     condition + \\\n",
    "                     \"/img_Transmission_t000_p000_z000.tif\"\n",
    "target_retard = targetData + \\\n",
    "                     condition + \\\n",
    "                     \"/img_Retardance_t000_p000_z000.tif\"\n",
    "target_Orientation = targetData + \\\n",
    "                     condition + \\\n",
    "                     \"/img_Orientation_t000_p000_z000.tif\"\n",
    "target_Scattering = targetData + \\\n",
    "                     condition + \\\n",
    "                     \"/img_Scattering_t000_p000_z000.tif\"\n"
   ]
  },
  {
   "cell_type": "code",
   "execution_count": 6,
   "metadata": {},
   "outputs": [],
   "source": [
    "def test_mse_Itrans():\n",
    "    assert mse(cv2.imread(target_ITrans,-1), cv2.imread(target_ITrans,-1)) <= 100\n",
    "    assert mse(cv2.imread(target_ITrans_Recon,-1), cv2.imread(target_ITrans,-1)) <= 100\n"
   ]
  },
  {
   "cell_type": "code",
   "execution_count": 7,
   "metadata": {},
   "outputs": [],
   "source": [
    "def test_mse_retard():\n",
    "    assert mse(cv2.imread(target_retard, -1), cv2.imread(target_retard, -1)) <= 10000\n",
    "    assert mse(cv2.imread(target_retard_Recon, -1), cv2.imread(target_retard, -1)) <= 10000\n"
   ]
  },
  {
   "cell_type": "code",
   "execution_count": 8,
   "metadata": {},
   "outputs": [],
   "source": [
    "def test_mse_orientation():\n",
    "    assert mse(cv2.imread(target_Orientation, -1), cv2.imread(target_Orientation, -1)) <= 10000\n",
    "    assert mse(cv2.imread(target_Orientation_Recon, -1), cv2.imread(target_Orientation, -1)) <= 10000\n"
   ]
  },
  {
   "cell_type": "code",
   "execution_count": 9,
   "metadata": {},
   "outputs": [],
   "source": [
    "def test_mse_scattering():\n",
    "    assert mse(cv2.imread(target_Scattering, -1), cv2.imread(target_Scattering, -1)) <= 10000\n",
    "    assert mse(cv2.imread(target_Scattering_Recon, -1), cv2.imread(target_Scattering, -1)) <= 10000\n"
   ]
  },
  {
   "cell_type": "code",
   "execution_count": 11,
   "metadata": {},
   "outputs": [
    {
     "name": "stdout",
     "output_type": "stream",
     "text": [
      " *** trans, identiy and proc vs recon *** \nmse value = 0.0\ntime for MSE calculation = 8395\n\n"
     ]
    },
    {
     "name": "stdout",
     "output_type": "stream",
     "text": [
      "mse value = 0.0\ntime for MSE calculation = 8585\n\n *** retard, identiy and proc vs recon *** \nmse value = 0.0\ntime for MSE calculation = 7932\n\n"
     ]
    },
    {
     "name": "stdout",
     "output_type": "stream",
     "text": [
      "mse value = 0.0\ntime for MSE calculation = 8908\n\n *** orientation, identiy and proc vs recon *** \nmse value = 0.0\ntime for MSE calculation = 8525\n\n"
     ]
    },
    {
     "name": "stdout",
     "output_type": "stream",
     "text": [
      "mse value = 1.14227294921875\ntime for MSE calculation = 8639\n\n *** scattering, identiy and proc vs recon *** \nmse value = 0.0\ntime for MSE calculation = 8377\n\n"
     ]
    },
    {
     "name": "stdout",
     "output_type": "stream",
     "text": [
      "mse value = 0.0\ntime for MSE calculation = 8150\n\n"
     ]
    }
   ],
   "source": [
    "print(' *** trans, identiy and proc vs recon *** ')\n",
    "test_mse_Itrans()\n",
    "print(' *** retard, identiy and proc vs recon *** ')\n",
    "test_mse_retard()\n",
    "print(' *** orientation, identiy and proc vs recon *** ')\n",
    "test_mse_orientation()\n",
    "print(' *** scattering, identiy and proc vs recon *** ')\n",
    "test_mse_scattering()"
   ]
  },
  {
   "cell_type": "code",
   "execution_count": null,
   "metadata": {},
   "outputs": [],
   "source": []
  }
 ],
 "metadata": {
  "kernelspec": {
   "display_name": "Python 2",
   "language": "python",
   "name": "python2"
  },
  "language_info": {
   "codemirror_mode": {
    "name": "ipython",
    "version": 2
   },
   "file_extension": ".py",
   "mimetype": "text/x-python",
   "name": "python",
   "nbconvert_exporter": "python",
   "pygments_lexer": "ipython2",
   "version": "2.7.6"
  }
 },
 "nbformat": 4,
 "nbformat_minor": 0
}
