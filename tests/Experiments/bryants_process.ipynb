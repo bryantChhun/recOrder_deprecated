{
 "cells": [
  {
   "cell_type": "code",
   "execution_count": 4,
   "metadata": {
    "collapsed": true
   },
   "outputs": [],
   "source": [
    "import numpy as np\n",
    "import cv2\n",
    "import os\n",
    "\n",
    "from src.DataPipe.PipeToReconOrder import PipeToReconOrder\n",
    "from src.Processing.ReconOrder import ReconOrder\n",
    "from tests.testMetrics import mse\n",
    "\n",
    "from IPython.core.interactiveshell import InteractiveShell\n",
    "InteractiveShell.ast_node_interactivity = 'all'\n",
    "\n",
    "from src.DataPipe.PipeToReconOrder import PipeToReconOrder\n",
    "from src.Processing.ReconOrder import ReconOrder\n",
    "from tests.testMetrics import mse"
   ]
  },
  {
   "cell_type": "code",
   "execution_count": null,
   "metadata": {},
   "outputs": [],
   "source": [
    "datapipe = PipeToReconOrder(type=\"Test\", sample_type=\"Sample1\")\n",
    "datapipe_bg = PipeToReconOrder(type=\"Test\", sample_type='BG')\n",
    "\n",
    "# initialize processors\n",
    "processor = ReconOrder()\n",
    "processor_bg = ReconOrder()\n",
    "processor.frames = 5\n",
    "processor_bg.frames = 5\n",
    "\n",
    "datapipe.set_processor(processor)\n",
    "datapipe_bg.set_processor(processor_bg)\n",
    "\n",
    "datapipe.compute_inst_matrix()\n",
    "datapipe_bg.compute_inst_matrix()\n",
    "\n",
    "# BGprocess first\n",
    "datapipe_bg.run_reconstruction()\n",
    "datapipe.run_reconstruction_BG_correction(datapipe_bg.get_processor())\n"
   ]
  },
  {
   "cell_type": "code",
   "execution_count": 11,
   "metadata": {},
   "outputs": [
    {
     "data": {
      "text/plain": [
       "True"
      ]
     },
     "execution_count": 11,
     "metadata": {},
     "output_type": "execute_result"
    },
    {
     "data": {
      "text/plain": [
       "True"
      ]
     },
     "execution_count": 11,
     "metadata": {},
     "output_type": "execute_result"
    },
    {
     "data": {
      "text/plain": [
       "True"
      ]
     },
     "execution_count": 11,
     "metadata": {},
     "output_type": "execute_result"
    },
    {
     "data": {
      "text/plain": [
       "True"
      ]
     },
     "execution_count": 11,
     "metadata": {},
     "output_type": "execute_result"
    }
   ],
   "source": [
    "cv2.imwrite('tests/testData/Processed3/transmitted.tif', processor.I_trans)\n",
    "cv2.imwrite('tests/testData/Processed3/retardance.tif', processor.retard)\n",
    "cv2.imwrite('tests/testData/Processed3/scattering.tif', processor.scattering)\n",
    "cv2.imwrite('tests/testData/Processed3/azimuth_degree.tif', processor.azimuth_degree)\n"
   ]
  },
  {
   "cell_type": "code",
   "execution_count": 32,
   "metadata": {},
   "outputs": [],
   "source": [
    "targetRecon = \"./tests/testData/reconData/2018_10_02_MouseBrainSlice/\"\n",
    "conditionRecon = \"SM_2018_1002_1633_1_BG_2018_1002_1625_1\"\n",
    "target_ITrans_Recon = targetRecon + \\\n",
    "                     conditionRecon + \\\n",
    "                     \"/img_Transmission_t000_p000_z000.tif\"\n",
    "target_retard_Recon = targetRecon + \\\n",
    "                     conditionRecon + \\\n",
    "                     \"/img_Retardance_t000_p000_z000.tif\"\n",
    "target_Orientation_Recon = targetRecon + \\\n",
    "                     conditionRecon + \\\n",
    "                     \"/img_Orientation_t000_p000_z000.tif\"\n",
    "target_Scattering_Recon = targetRecon + \\\n",
    "                     conditionRecon + \\\n",
    "                     \"/img_Scattering_t000_p000_z000.tif\"\n"
   ]
  },
  {
   "cell_type": "code",
   "execution_count": 21,
   "metadata": {},
   "outputs": [],
   "source": [
    "targetData = \"tests/testData/Processed3/\"\n",
    "\n",
    "target_ITrans = targetData + \\\n",
    "                     \"/transmitted.tif\"\n",
    "target_retard = targetData + \\\n",
    "                     \"/retardance.tif\"\n",
    "target_Orientation = targetData + \\\n",
    "                     \"/scattering.tif\"\n",
    "target_Scattering = targetData + \\\n",
    "                     \"/azimuth_degree.tif\"\n"
   ]
  },
  {
   "cell_type": "code",
   "execution_count": 82,
   "metadata": {},
   "outputs": [],
   "source": [
    "def test_mse_Itrans():\n",
    "    # assert mse(cv2.imread(target_ITrans,-1), cv2.imread(target_ITrans,-1)) <= 100000\n",
    "    assert mse(cv2.imread(target_ITrans_Recon,-1), cv2.imread(target_ITrans,-1)) <= 1000000000000\n"
   ]
  },
  {
   "cell_type": "code",
   "execution_count": 76,
   "metadata": {},
   "outputs": [],
   "source": [
    "def test_mse_retard():\n",
    "    # assert mse(cv2.imread(target_retard, -1), cv2.imread(target_retard, -1)) <= 100000\n",
    "    assert mse(cv2.imread(target_retard_Recon, -1), cv2.imread(target_retard, -1)) <= 100000"
   ]
  },
  {
   "cell_type": "code",
   "execution_count": 77,
   "metadata": {},
   "outputs": [],
   "source": [
    "def test_mse_orientation():\n",
    "    # assert mse(cv2.imread(target_Orientation, -1), cv2.imread(target_Orientation, -1)) <= 100000\n",
    "    assert mse(cv2.imread(target_Orientation_Recon, -1), cv2.imread(target_Orientation, -1)) <= 100000"
   ]
  },
  {
   "cell_type": "code",
   "execution_count": 78,
   "metadata": {},
   "outputs": [],
   "source": [
    "def test_mse_scattering():\n",
    "    # assert mse(cv2.imread(target_Scattering, -1), cv2.imread(target_Scattering, -1)) <= 100000\n",
    "    assert mse(cv2.imread(target_Scattering_Recon, -1), cv2.imread(target_Scattering, -1)) <= 100000"
   ]
  },
  {
   "cell_type": "code",
   "execution_count": 83,
   "metadata": {},
   "outputs": [
    {
     "name": "stdout",
     "output_type": "stream",
     "text": [
      " *** trans, identiy and proc vs recon *** \n\tmse value = 917116464.3690815\n\ttime for MSE calculation = 17446\n\n *** retard, identiy and proc vs recon *** \n"
     ]
    },
    {
     "name": "stdout",
     "output_type": "stream",
     "text": [
      "\tmse value = 26766.800601005554\n\ttime for MSE calculation = 9923\n\n *** orientation, identiy and proc vs recon *** \n\tmse value = 31632.602644205093\n\ttime for MSE calculation = 9446\n\n *** scattering, identiy and proc vs recon *** \n"
     ]
    },
    {
     "name": "stdout",
     "output_type": "stream",
     "text": [
      "\tmse value = 31515.80780339241\n\ttime for MSE calculation = 10132\n\n"
     ]
    }
   ],
   "source": [
    "print(' *** trans, identiy and proc vs recon *** ')\n",
    "test_mse_Itrans()\n",
    "print(' *** retard, identiy and proc vs recon *** ')\n",
    "test_mse_retard()\n",
    "print(' *** orientation, identiy and proc vs recon *** ')\n",
    "test_mse_orientation()\n",
    "print(' *** scattering, identiy and proc vs recon *** ')\n",
    "test_mse_scattering()"
   ]
  },
  {
   "cell_type": "code",
   "execution_count": null,
   "metadata": {},
   "outputs": [],
   "source": [
    "targetRecon = cv2.imread(target_ITrans_Recon,-1)\n",
    "newRecon = cv2.imread(target_ITrans,-1)\n",
    "\n",
    "\n"
   ]
  },
  {
   "cell_type": "code",
   "execution_count": null,
   "metadata": {},
   "outputs": [],
   "source": []
  }
 ],
 "metadata": {
  "kernelspec": {
   "display_name": "Python 2",
   "language": "python",
   "name": "python2"
  },
  "language_info": {
   "codemirror_mode": {
    "name": "ipython",
    "version": 2
   },
   "file_extension": ".py",
   "mimetype": "text/x-python",
   "name": "python",
   "nbconvert_exporter": "python",
   "pygments_lexer": "ipython2",
   "version": "2.7.6"
  }
 },
 "nbformat": 4,
 "nbformat_minor": 0
}
