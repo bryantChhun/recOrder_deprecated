{
 "cells": [
  {
   "cell_type": "code",
   "execution_count": null,
   "metadata": {
    "collapsed": true
   },
   "outputs": [],
   "source": [
    "\"\"\"\n",
    "Tests to create a singleton class that represents the instrument matrix\n",
    "\"\"\"\n"
   ]
  },
  {
   "cell_type": "code",
   "execution_count": null,
   "metadata": {
    "collapsed": true
   },
   "outputs": [],
   "source": [
    "import numpy as np\n"
   ]
  },
  {
   "cell_type": "code",
   "execution_count": 2,
   "metadata": {},
   "outputs": [],
   "source": [
    "class SingletonType(type):\n",
    "    instance = None\n",
    "    def __call__(cls, *args, **kw):\n",
    "        if not cls.instance:\n",
    "             cls.instance = super(SingletonType, cls).__call__(*args, **kw)\n",
    "        return cls.instance\n"
   ]
  },
  {
   "cell_type": "code",
   "execution_count": 19,
   "metadata": {},
   "outputs": [],
   "source": [
    "\n",
    "class InstMatrix(object, metaclass=SingletonType):\n",
    "    inst_mat_inv = None\n",
    "\n",
    "    def __init__(self, chi):\n",
    "        self.chi = chi\n",
    "        self.inst_mat_inv = None\n",
    "\n",
    "    def compute_instrument_matrix(self, chi):\n",
    "        inst_mat = np.array([[1, 0, 0, -1],\n",
    "                             [1, np.sin(chi), 0, -np.cos(chi)],\n",
    "                             [1, 0, np.sin(chi), -np.cos(chi)],\n",
    "                             [1, -np.sin(chi), 0, -np.cos(chi)],\n",
    "                             [1, 0, -np.sin(chi), -np.cos(chi)]])\n",
    "\n",
    "        self.inst_mat_inv = np.linalg.pinv(inst_mat)\n",
    "        \n",
    "    def get_matrix(self):\n",
    "        if self.inst_mat_inv is not None:\n",
    "            return self.inst_mat_inv\n",
    "        else:\n",
    "            return \"None type found\"\n",
    "        "
   ]
  },
  {
   "cell_type": "code",
   "execution_count": 20,
   "metadata": {},
   "outputs": [],
   "source": [
    "a = InstMatrix()\n",
    "b = InstMatrix()"
   ]
  },
  {
   "cell_type": "code",
   "execution_count": 21,
   "metadata": {},
   "outputs": [],
   "source": [
    "a.compute_instrument_matrix(0.1)"
   ]
  },
  {
   "cell_type": "code",
   "execution_count": 22,
   "metadata": {},
   "outputs": [
    {
     "data": {
      "text/plain": [
       "array([[-1.99166750e+02,  5.00416875e+01,  5.00416875e+01,\n         5.00416875e+01,  5.00416875e+01],\n       [ 2.84506334e-16,  5.00834307e+00,  1.95691399e-16,\n        -5.00834307e+00, -1.97486685e-16],\n       [ 0.00000000e+00,  0.00000000e+00,  5.00834307e+00,\n         0.00000000e+00, -5.00834307e+00],\n       [-2.00166750e+02,  5.00416875e+01,  5.00416875e+01,\n         5.00416875e+01,  5.00416875e+01]])"
      ]
     },
     "execution_count": 22,
     "metadata": {},
     "output_type": "execute_result"
    }
   ],
   "source": [
    "a.get_matrix()"
   ]
  },
  {
   "cell_type": "code",
   "execution_count": 23,
   "metadata": {},
   "outputs": [
    {
     "data": {
      "text/plain": [
       "'None type found'"
      ]
     },
     "execution_count": 23,
     "metadata": {},
     "output_type": "execute_result"
    }
   ],
   "source": [
    "b.get_matrix()"
   ]
  },
  {
   "cell_type": "code",
   "execution_count": null,
   "metadata": {},
   "outputs": [],
   "source": []
  }
 ],
 "metadata": {
  "kernelspec": {
   "display_name": "Python 2",
   "language": "python",
   "name": "python2"
  },
  "language_info": {
   "codemirror_mode": {
    "name": "ipython",
    "version": 2
   },
   "file_extension": ".py",
   "mimetype": "text/x-python",
   "name": "python",
   "nbconvert_exporter": "python",
   "pygments_lexer": "ipython2",
   "version": "2.7.6"
  }
 },
 "nbformat": 4,
 "nbformat_minor": 0
}
