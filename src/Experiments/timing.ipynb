{
 "cells": [
  {
   "cell_type": "code",
   "execution_count": null,
   "metadata": {},
   "outputs": [],
   "source": [
    "\"\"\"\n",
    "A speed comparison of methods for matrix multiplication:\n",
    "    Numpy\n",
    "    Scipy.linalg.blas\n",
    "    PyOpenCl\n",
    "\"\"\""
   ]
  },
  {
   "cell_type": "code",
   "execution_count": null,
   "metadata": {},
   "outputs": [],
   "source": [
    "def timer(func):\n",
    "    def timer_wrap(*args, **kwargs):\n",
    "        start = datetime.now()\n",
    "        func(*args,**kwargs)\n",
    "        stop = datetime.now()\n",
    "        print( (stop-start).microseconds)\n",
    "    return timer_wrap\n"
   ]
  },
  {
   "cell_type": "code",
   "execution_count": 118,
   "metadata": {
    "collapsed": true
   },
   "outputs": [],
   "source": [
    "import numpy as np\n",
    "from datetime import datetime\n",
    "\n",
    "import pyopencl as cl\n",
    "from pyopencl.tools import get_test_platforms_and_devices\n",
    "import numpy as np\n",
    "\n",
    "import os\n",
    "\n",
    "from IPython.core.interactiveshell import InteractiveShell\n",
    "InteractiveShell.ast_node_interactivity = 'all'"
   ]
  },
  {
   "cell_type": "code",
   "execution_count": 119,
   "metadata": {},
   "outputs": [],
   "source": [
    "I_ext = np.ones(shape=(2048,2048))\n",
    "I_90 = np.ones(shape=(2048,2048))\n",
    "I_135 = np.ones(shape=(2048,2048))\n",
    "I_45 = np.ones(shape=(2048,2048))\n",
    "I_0 = np.ones(shape=(2048,2048))\n",
    "\n",
    "(n, m, p) = (2048, 2048, 2048)\n",
    "\n",
    "# a = np.random.randn(n, m).astype(np.float32)\n",
    "# b = np.random.randn(m, p).astype(np.float32)\n",
    "a = np.random.randint(2, size=(n*m))\n",
    "b = np.random.randint(2, size=(m*p))\n",
    "c = np.random.randint(2, size=(m*p))\n",
    "d = np.random.randint(2, size=(m*p))\n",
    "e = np.random.randint(2, size=(m*p))\n",
    "\n",
    "a = np.reshape(a, (2048,2048)).astype(np.float32)\n",
    "b = np.reshape(b, (2048,2048)).astype(np.float32)\n",
    "c = np.reshape(c, (2048,2048)).astype(np.float32)\n",
    "d = np.reshape(d, (2048,2048)).astype(np.float32)\n",
    "e = np.reshape(e, (2048,2048)).astype(np.float32)"
   ]
  },
  {
   "cell_type": "code",
   "execution_count": 120,
   "metadata": {},
   "outputs": [],
   "source": [
    "img_raw = np.stack((I_ext, I_0, I_45, I_90, I_135))\n",
    "img_raw_ab = np.stack((a,b,c,d,e))"
   ]
  },
  {
   "cell_type": "code",
   "execution_count": 121,
   "metadata": {},
   "outputs": [],
   "source": [
    "img_raw.shape\n",
    "img_raw_ab.shape"
   ]
  },
  {
   "cell_type": "code",
   "execution_count": 122,
   "metadata": {},
   "outputs": [
    {
     "name": "stdout",
     "output_type": "stream",
     "text": [
      "75\n6035\n"
     ]
    }
   ],
   "source": [
    "start = datetime.now()\n",
    "img_raw_flat = np.reshape(img_raw, (5, 2048*2048))\n",
    "stop = datetime.now()\n",
    "print((stop-start).microseconds)\n",
    "\n",
    "start = datetime.now()\n",
    "img_raw_flat_ab = np.reshape(img_raw_ab, (5, 2048*2048))\n",
    "stop = datetime.now()\n",
    "print((stop-start).microseconds)"
   ]
  },
  {
   "cell_type": "code",
   "execution_count": 123,
   "metadata": {},
   "outputs": [],
   "source": [
    "def compute_inst_matrix():\n",
    "    chi = 0.2\n",
    "    inst_mat = np.array([[1, 0, 0, -1],\n",
    "                         [1, np.sin(chi), 0, -np.cos(chi)],\n",
    "                         [1, 0, np.sin(chi), -np.cos(chi)],\n",
    "                         [1, -np.sin(chi), 0, -np.cos(chi)],\n",
    "                         [1, 0, -np.sin(chi), -np.cos(chi)]])\n",
    "\n",
    "    inst_mat_inv = np.linalg.pinv(inst_mat)\n",
    "    return inst_mat_inv.astype(np.float32)"
   ]
  },
  {
   "cell_type": "code",
   "execution_count": 124,
   "metadata": {},
   "outputs": [
    {
     "name": "stdout",
     "output_type": "stream",
     "text": [
      "460\n"
     ]
    }
   ],
   "source": [
    "start = datetime.now()\n",
    "\n",
    "inverse = compute_inst_matrix()\n",
    "\n",
    "stop = datetime.now()\n",
    "print((stop-start).microseconds)"
   ]
  },
  {
   "cell_type": "code",
   "execution_count": 125,
   "metadata": {},
   "outputs": [
    {
     "data": {
      "text/plain": [
       "(4, 5)"
      ]
     },
     "execution_count": 125,
     "metadata": {},
     "output_type": "execute_result"
    },
    {
     "data": {
      "text/plain": [
       "(20, 4)"
      ]
     },
     "execution_count": 125,
     "metadata": {},
     "output_type": "execute_result"
    },
    {
     "data": {
      "text/plain": [
       "numpy.float32"
      ]
     },
     "execution_count": 125,
     "metadata": {},
     "output_type": "execute_result"
    },
    {
     "data": {
      "text/plain": [
       "(5, 4194304)"
      ]
     },
     "execution_count": 125,
     "metadata": {},
     "output_type": "execute_result"
    },
    {
     "data": {
      "text/plain": [
       "(33554432, 8)"
      ]
     },
     "execution_count": 125,
     "metadata": {},
     "output_type": "execute_result"
    },
    {
     "data": {
      "text/plain": [
       "numpy.float64"
      ]
     },
     "execution_count": 125,
     "metadata": {},
     "output_type": "execute_result"
    },
    {
     "data": {
      "text/plain": [
       "(5, 4194304)"
      ]
     },
     "execution_count": 125,
     "metadata": {},
     "output_type": "execute_result"
    },
    {
     "data": {
      "text/plain": [
       "(16777216, 4)"
      ]
     },
     "execution_count": 125,
     "metadata": {},
     "output_type": "execute_result"
    },
    {
     "data": {
      "text/plain": [
       "numpy.float32"
      ]
     },
     "execution_count": 125,
     "metadata": {},
     "output_type": "execute_result"
    }
   ],
   "source": [
    "inverse.shape\n",
    "inverse.strides\n",
    "type(inverse[0][0])\n",
    "\n",
    "img_raw_flat.shape\n",
    "img_raw_flat.strides\n",
    "type(img_raw_flat[0][0])\n",
    "\n",
    "img_raw_flat_ab.shape\n",
    "img_raw_flat_ab.strides\n",
    "type(img_raw_flat_ab[0][0])\n"
   ]
  },
  {
   "cell_type": "code",
   "execution_count": 127,
   "metadata": {},
   "outputs": [
    {
     "name": "stdout",
     "output_type": "stream",
     "text": [
      "36262\n"
     ]
    }
   ],
   "source": [
    "#============= timing test =====================\n",
    "# data is float 64\n",
    "\n",
    "start = datetime.now()\n",
    "img_stokes_flat = np.dot(inverse, img_raw_flat)\n",
    "stop = datetime.now()\n",
    "print((stop-start).microseconds)\n"
   ]
  },
  {
   "cell_type": "code",
   "execution_count": 128,
   "metadata": {},
   "outputs": [
    {
     "name": "stdout",
     "output_type": "stream",
     "text": [
      "36262\n"
     ]
    }
   ],
   "source": [
    "\n",
    "#============= timing test =====================\n",
    "# data is float 32\n",
    "\n",
    "start = datetime.now()\n",
    "img_stokes_flat = np.dot(inverse, img_raw_flat_ab)\n",
    "stop = datetime.now()\n",
    "print((stop-start).microseconds)"
   ]
  },
  {
   "cell_type": "code",
   "execution_count": null,
   "metadata": {},
   "outputs": [],
   "source": [
    "inverse.flags\n",
    "img_raw_flat.flags\n",
    "np.show_config()\n"
   ]
  },
  {
   "cell_type": "code",
   "execution_count": 110,
   "metadata": {},
   "outputs": [],
   "source": [
    "\n",
    "#=========================================================\n",
    "#=============== Scipy Blas ==============================\n",
    "#========================================================="
   ]
  },
  {
   "cell_type": "code",
   "execution_count": 111,
   "metadata": {},
   "outputs": [],
   "source": [
    "from scipy.linalg.blas import dgemm\n",
    "from scipy.linalg.blas import dsymm\n"
   ]
  },
  {
   "cell_type": "code",
   "execution_count": 26,
   "metadata": {},
   "outputs": [
    {
     "name": "stdout",
     "output_type": "stream",
     "text": [
      "239713\n"
     ]
    }
   ],
   "source": [
    "start = datetime.now()\n",
    "img_stokes_flat = dgemm(alpha=1., a=inverse, b=img_raw_flat)\n",
    "stop = datetime.now()\n",
    "print((stop-start).microseconds)"
   ]
  },
  {
   "cell_type": "code",
   "execution_count": null,
   "metadata": {},
   "outputs": [],
   "source": [
    "start = datetime.now()\n",
    "img_stokes_flat = dsymm(alpha=1., a=inverse, b=img_raw_flat)\n",
    "stop = datetime.now()\n",
    "print((stop-start).microseconds)\n"
   ]
  },
  {
   "cell_type": "code",
   "execution_count": null,
   "metadata": {},
   "outputs": [],
   "source": [
    "import numpy.distutils.system_info as sysinfo\n",
    "sysinfo.get_info('blas')"
   ]
  },
  {
   "cell_type": "code",
   "execution_count": 68,
   "metadata": {},
   "outputs": [
    {
     "name": "stdout",
     "output_type": "stream",
     "text": [
      "mkl_info:\n    libraries = ['mkl_rt', 'pthread']\n    library_dirs = ['/Users/bryant.chhun/anaconda3/envs/InstantPol3.6/lib']\n    define_macros = [('SCIPY_MKL_H', None), ('HAVE_CBLAS', None)]\n    include_dirs = ['/Users/bryant.chhun/anaconda3/envs/InstantPol3.6/include']\nblas_mkl_info:\n    libraries = ['mkl_rt', 'pthread']\n    library_dirs = ['/Users/bryant.chhun/anaconda3/envs/InstantPol3.6/lib']\n    define_macros = [('SCIPY_MKL_H', None), ('HAVE_CBLAS', None)]\n    include_dirs = ['/Users/bryant.chhun/anaconda3/envs/InstantPol3.6/include']\nblas_opt_info:\n    libraries = ['mkl_rt', 'pthread']\n    library_dirs = ['/Users/bryant.chhun/anaconda3/envs/InstantPol3.6/lib']\n    define_macros = [('SCIPY_MKL_H', None), ('HAVE_CBLAS', None)]\n    include_dirs = ['/Users/bryant.chhun/anaconda3/envs/InstantPol3.6/include']\nlapack_mkl_info:\n    libraries = ['mkl_rt', 'pthread']\n    library_dirs = ['/Users/bryant.chhun/anaconda3/envs/InstantPol3.6/lib']\n    define_macros = [('SCIPY_MKL_H', None), ('HAVE_CBLAS', None)]\n    include_dirs = ['/Users/bryant.chhun/anaconda3/envs/InstantPol3.6/include']\nlapack_opt_info:\n    libraries = ['mkl_rt', 'pthread']\n    library_dirs = ['/Users/bryant.chhun/anaconda3/envs/InstantPol3.6/lib']\n    define_macros = [('SCIPY_MKL_H', None), ('HAVE_CBLAS', None)]\n    include_dirs = ['/Users/bryant.chhun/anaconda3/envs/InstantPol3.6/include']\n"
     ]
    }
   ],
   "source": [
    "np.__config__.show()"
   ]
  },
  {
   "cell_type": "code",
   "execution_count": 74,
   "metadata": {},
   "outputs": [],
   "source": [
    "#=========================================================\n",
    "#=============== begin openCL tests ======================\n",
    "#=========================================================\n"
   ]
  },
  {
   "cell_type": "code",
   "execution_count": null,
   "metadata": {},
   "outputs": [],
   "source": [
    "os.environ['PYOPENCL_COMPILER_OUTPUT'] = '1'\n",
    "os.environ['PYOPENCL_CTX'] = '1'\n",
    "\n",
    "(n, m, p) = (2048, 2048, 2048)\n",
    "\n",
    "I_ext = np.ones(shape=(2048,2048))\n",
    "I_90 = np.ones(shape=(2048,2048))\n",
    "I_135 = np.ones(shape=(2048,2048))\n",
    "I_45 = np.ones(shape=(2048,2048))\n",
    "I_0 = np.ones(shape=(2048,2048))\n",
    "\n",
    "a = np.random.randint(2, size=(n*m))\n",
    "b = np.random.randint(2, size=(m*p))\n",
    "c = np.random.randint(2, size=(m*p))\n",
    "d = np.random.randint(2, size=(m*p))\n",
    "e = np.random.randint(2, size=(m*p))\n",
    "out = \n",
    "\n",
    "a = np.random.randint(2, size=(n*m))\n",
    "b = np.random.randint(2, size=(m*p))\n",
    "c = np.zeros((n*p), dtype=np.float32)\n",
    "\n",
    "a = np.reshape(a, (2048,2048)).astype(np.float64)\n",
    "b = np.reshape(b, (2048,2048)).astype(np.float64)\n",
    "c = np.reshape(c, (2048,2048)).astype(np.float64)\n",
    "d = np.reshape(d, (2048,2048)).astype(np.float64)\n",
    "e = np.reshape(e, (2048,2048)).astype(np.float64)\n",
    "\n",
    "a = a.astype(np.float32)\n",
    "b = b.astype(np.float32)\n"
   ]
  },
  {
   "cell_type": "code",
   "execution_count": 130,
   "metadata": {},
   "outputs": [],
   "source": [
    "img_raw = np.stack((I_ext, I_0, I_45, I_90, I_135))\n",
    "img_raw_ab = np.stack((a,b,c,d,e))\n",
    "\n",
    "inverse = compute_inst_matrix()\n",
    "\n",
    "img_raw_flat = np.reshape(img_raw, (5, 2048*2048))\n",
    "img_raw_flat_ab = np.reshape(img_raw_ab, (5, 2048*2048))\n",
    "\n"
   ]
  },
  {
   "cell_type": "code",
   "execution_count": 131,
   "metadata": {},
   "outputs": [
    {
     "data": {
      "text/plain": [
       "[<pyopencl.Device 'Intel(R) HD Graphics 630' on 'Apple' at 0x1024500>,\n <pyopencl.Device 'AMD Radeon Pro 560 Compute Engine' on 'Apple' at 0x1021c00>]"
      ]
     },
     "execution_count": 131,
     "metadata": {},
     "output_type": "execute_result"
    }
   ],
   "source": [
    "platform = cl.get_platforms()\n",
    "my_gpu_devices = platform[0].get_devices(device_type=cl.device_type.GPU)\n",
    "my_gpu_devices\n",
    "# ctx = cl.Context(devices=my_gpu_devices)\n"
   ]
  },
  {
   "cell_type": "code",
   "execution_count": 132,
   "metadata": {},
   "outputs": [],
   "source": [
    "my_gpu_devices = platform[0].get_devices(device_type=cl.device_type.GPU)\n",
    "ctx = cl.Context(devices=my_gpu_devices)\n",
    "\n",
    "queue = cl.CommandQueue(ctx)\n",
    "\n",
    "mf = cl.mem_flags\n",
    "a_buf = cl.Buffer\\\n",
    "   (ctx, mf.READ_ONLY | mf.COPY_HOST_PTR, hostbuf=inverse)\n",
    "b_buf = cl.Buffer\\\n",
    "   (ctx, mf.READ_ONLY | mf.COPY_HOST_PTR, hostbuf=img_raw_flat_ab)\n",
    "c_buf = cl.Buffer(ctx, mf.WRITE_ONLY, c.nbytes)"
   ]
  },
  {
   "cell_type": "code",
   "execution_count": 133,
   "metadata": {},
   "outputs": [],
   "source": [
    "prg = cl.Program(ctx, \"\"\"\n",
    "    __kernel void multiply(ushort n,\n",
    "                            ushort m, \n",
    "                            ushort p, \n",
    "                            __global float *a,\n",
    "                            __global float *b, \n",
    "                            __global float *c)\n",
    "    {\n",
    "      int gid = get_global_id(0);\n",
    "      c[gid] = 0.0f;\n",
    "      int rowC = gid/p;\n",
    "      int colC = gid%p;\n",
    "      __global float *pA = &a[rowC*m];\n",
    "      __global float *pB = &b[colC];\n",
    "      for(int k=0; k<m; k++)\n",
    "      {\n",
    "         pB = &b[colC+k*p];\n",
    "         c[gid] += (*(pA++))*(*pB);\n",
    "      }\n",
    "    }\n",
    "    \"\"\").build()"
   ]
  },
  {
   "cell_type": "code",
   "execution_count": 134,
   "metadata": {},
   "outputs": [
    {
     "data": {
      "text/plain": [
       "<pyopencl._cl.Event at 0x63a900410>"
      ]
     },
     "execution_count": 135,
     "metadata": {},
     "output_type": "execute_result"
    },
    {
     "name": "stdout",
     "output_type": "stream",
     "text": [
      "time is = 4159\n"
     ]
    },
    {
     "data": {
      "text/plain": [
       "<pyopencl._cl.NannyEvent at 0x63a8f27d8>"
      ]
     },
     "execution_count": 135,
     "metadata": {},
     "output_type": "execute_result"
    },
    {
     "name": "stdout",
     "output_type": "stream",
     "text": [
      "matrix A:\n[[1. 0. 1. ... 1. 0. 0.]\n [1. 1. 1. ... 1. 0. 1.]\n [0. 0. 1. ... 1. 1. 0.]\n ...\n [1. 0. 1. ... 1. 0. 0.]\n [1. 0. 0. ... 1. 1. 1.]\n [1. 1. 1. ... 1. 0. 0.]]\nmatrix B:\n[[1. 0. 1. ... 0. 0. 0.]\n [0. 1. 1. ... 0. 0. 0.]\n [1. 1. 1. ... 1. 0. 1.]\n ...\n [1. 1. 1. ... 0. 0. 1.]\n [0. 0. 0. ... 0. 0. 1.]\n [1. 0. 1. ... 0. 1. 1.]]\nmultiplied A*B:\n[[253.48325 321.19202 210.37476 ... 190.34973 320.70874 257.54175]\n [  0.        0.        0.      ...   0.        0.        0.     ]\n [  0.        0.        0.      ...   0.        0.        0.     ]\n ...\n [  0.        0.        0.      ...   0.        0.        0.     ]\n [  0.        0.        0.      ...   0.        0.        0.     ]\n [  0.        0.        0.      ...   0.        0.        0.     ]]\n"
     ]
    }
   ],
   "source": [
    "inverse = inverse.astype(np.float32)\n",
    "img_raw_flat = img_raw_flat.astype(np.float32)\n",
    "\n",
    "start = datetime.now()\n",
    "img_stokes_flat = np.dot(inverse, img_raw_flat)\n",
    "stop = datetime.now()\n",
    "print((stop-start).microseconds)\n"
   ]
  },
  {
   "cell_type": "code",
   "execution_count": 135,
   "metadata": {},
   "outputs": [
    {
     "data": {
      "text/plain": [
       "<pyopencl._cl.Event at 0x63a900410>"
      ]
     },
     "execution_count": 135,
     "metadata": {},
     "output_type": "execute_result"
    },
    {
     "name": "stdout",
     "output_type": "stream",
     "text": [
      "time is = 4159\n"
     ]
    },
    {
     "data": {
      "text/plain": [
       "<pyopencl._cl.NannyEvent at 0x63a8f27d8>"
      ]
     },
     "execution_count": 135,
     "metadata": {},
     "output_type": "execute_result"
    },
    {
     "name": "stdout",
     "output_type": "stream",
     "text": [
      "matrix A:\n[[1. 0. 1. ... 1. 0. 0.]\n [1. 1. 1. ... 1. 0. 1.]\n [0. 0. 1. ... 1. 1. 0.]\n ...\n [1. 0. 1. ... 1. 0. 0.]\n [1. 0. 0. ... 1. 1. 1.]\n [1. 1. 1. ... 1. 0. 0.]]\nmatrix B:\n[[1. 0. 1. ... 0. 0. 0.]\n [0. 1. 1. ... 0. 0. 0.]\n [1. 1. 1. ... 1. 0. 1.]\n ...\n [1. 1. 1. ... 0. 0. 1.]\n [0. 0. 0. ... 0. 0. 1.]\n [1. 0. 1. ... 0. 1. 1.]]\nmultiplied A*B:\n[[253.48325 321.19202 210.37476 ... 190.34973 320.70874 257.54175]\n [  0.        0.        0.      ...   0.        0.        0.     ]\n [  0.        0.        0.      ...   0.        0.        0.     ]\n ...\n [  0.        0.        0.      ...   0.        0.        0.     ]\n [  0.        0.        0.      ...   0.        0.        0.     ]\n [  0.        0.        0.      ...   0.        0.        0.     ]]\n"
     ]
    }
   ],
   "source": [
    "start = datetime.now()\n",
    "prg.multiply(queue, c.shape, None, np.uint16(n), np.uint16(m), np.uint16(p), a_buf, b_buf, c_buf)\n",
    "stop = datetime.now()\n",
    "print(\"time is = \"+str((stop-start).microseconds))\n",
    "\n",
    "a_mul_b = np.empty_like(c)\n",
    "cl.enqueue_copy(queue, a_mul_b, c_buf)\n",
    "\n",
    "print(\"matrix A:\")\n",
    "print(a.reshape(n, m))\n",
    "print(\"matrix B:\")\n",
    "print(b.reshape(m, p))\n",
    "print(\"multiplied A*B:\")\n",
    "print(a_mul_b.reshape(n, p))\n"
   ]
  },
  {
   "cell_type": "code",
   "execution_count": null,
   "metadata": {},
   "outputs": [],
   "source": []
  }
 ],
 "metadata": {
  "kernelspec": {
   "display_name": "Python 2",
   "language": "python",
   "name": "python2"
  },
  "language_info": {
   "codemirror_mode": {
    "name": "ipython",
    "version": 2
   },
   "file_extension": ".py",
   "mimetype": "text/x-python",
   "name": "python",
   "nbconvert_exporter": "python",
   "pygments_lexer": "ipython2",
   "version": "2.7.6"
  }
 },
 "nbformat": 4,
 "nbformat_minor": 0
}
