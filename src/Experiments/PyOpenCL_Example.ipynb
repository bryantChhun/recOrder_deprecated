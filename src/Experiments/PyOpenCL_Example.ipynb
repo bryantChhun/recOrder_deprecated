{
 "cells": [
  {
   "cell_type": "code",
   "execution_count": 10,
   "metadata": {
    "collapsed": true
   },
   "outputs": [],
   "source": [
    "import pyopencl as cl\n",
    "from pyopencl.tools import get_test_platforms_and_devices\n",
    "import numpy as np\n",
    "\n",
    "import os\n",
    "from IPython.core.interactiveshell import InteractiveShell\n",
    "InteractiveShell.ast_node_interactivity = 'all'\n",
    "\n",
    "from datetime import datetime"
   ]
  },
  {
   "cell_type": "code",
   "execution_count": 11,
   "metadata": {},
   "outputs": [
    {
     "data": {
      "text/plain": [
       "[(<pyopencl.Platform 'Apple' at 0x7fff0000>,\n  [<pyopencl.Device 'Intel(R) Core(TM) i7-7920HQ CPU @ 3.10GHz' on 'Apple' at 0xffffffff>,\n   <pyopencl.Device 'Intel(R) HD Graphics 630' on 'Apple' at 0x1024500>,\n   <pyopencl.Device 'AMD Radeon Pro 560 Compute Engine' on 'Apple' at 0x1021c00>])]"
      ]
     },
     "execution_count": 11,
     "metadata": {},
     "output_type": "execute_result"
    }
   ],
   "source": [
    "get_test_platforms_and_devices()"
   ]
  },
  {
   "cell_type": "code",
   "execution_count": 12,
   "metadata": {},
   "outputs": [],
   "source": [
    "# os.environ['PYOPENCL_COMPILER_OUTPUT'] = '1'\n",
    "# os.environ['PYOPENCL_CTX'] = '1'\n",
    "# \n",
    "# (n, m, p) = (3, 4, 5)\n",
    "# \n",
    "# # a = np.random.randn(n, m).astype(np.float32)\n",
    "# # b = np.random.randn(m, p).astype(np.float32)\n",
    "# a = np.random.randint(2, size=(n*m))\n",
    "# b = np.random.randint(2, size=(m*p))\n",
    "# c = np.zeros((n*p), dtype=np.float32)\n",
    "# \n",
    "# a = a.astype(np.float32)\n",
    "# b = b.astype(np.float32)\n"
   ]
  },
  {
   "cell_type": "code",
   "execution_count": 6,
   "metadata": {},
   "outputs": [],
   "source": [
    "\n",
    "os.environ['PYOPENCL_COMPILER_OUTPUT'] = '1'\n",
    "os.environ['PYOPENCL_CTX'] = '1'\n",
    "\n",
    "(n, m, p) = (2048, 2048, 2048)\n",
    "\n",
    "# a = np.random.randn(n, m).astype(np.float32)\n",
    "# b = np.random.randn(m, p).astype(np.float32)\n",
    "a = np.random.randint(2, size=(n*m))\n",
    "b = np.random.randint(2, size=(m*p))\n",
    "c = np.zeros((n*p), dtype=np.float32)\n",
    "\n",
    "a = a.astype(np.float32)\n",
    "b = b.astype(np.float32)"
   ]
  },
  {
   "cell_type": "code",
   "execution_count": 18,
   "metadata": {},
   "outputs": [
    {
     "ename": "TypeError",
     "evalue": "get_info(): incompatible function arguments. The following argument types are supported:\n    1. (self: pyopencl._cl.Device, arg0: int) -> object\n\nInvoked with: 'IMAGE_SUPPORT'",
     "traceback": [
      "\u001b[0;31m---------------------------------------------------------------------------\u001b[0m",
      "\u001b[0;31mTypeError\u001b[0m                                 Traceback (most recent call last)",
      "\u001b[0;32m<ipython-input-23-d8f087f856a8>\u001b[0m in \u001b[0;36m<module>\u001b[0;34m()\u001b[0m\n\u001b[0;32m----> 1\u001b[0;31m \u001b[0mcl\u001b[0m\u001b[0;34m.\u001b[0m\u001b[0mDevice\u001b[0m\u001b[0;34m.\u001b[0m\u001b[0mget_info\u001b[0m\u001b[0;34m(\u001b[0m\u001b[0;34m'IMAGE_SUPPORT'\u001b[0m\u001b[0;34m)\u001b[0m\u001b[0;34m\u001b[0m\u001b[0m\n\u001b[0m",
      "\u001b[0;31mTypeError\u001b[0m: get_info(): incompatible function arguments. The following argument types are supported:\n    1. (self: pyopencl._cl.Device, arg0: int) -> object\n\nInvoked with: 'IMAGE_SUPPORT'"
     ],
     "output_type": "error"
    }
   ],
   "source": [
    "\n",
    "platform = cl.get_platforms()\n",
    "my_gpu_devices = platform[0].get_devices(device_type=cl.device_type.GPU)\n",
    "my_gpu_devices\n",
    "# ctx = cl.Context(devices=my_gpu_devices)\n"
   ]
  },
  {
   "cell_type": "code",
   "execution_count": 23,
   "metadata": {},
   "outputs": [
    {
     "ename": "TypeError",
     "evalue": "get_info(): incompatible function arguments. The following argument types are supported:\n    1. (self: pyopencl._cl.Device, arg0: int) -> object\n\nInvoked with: 'IMAGE_SUPPORT'",
     "traceback": [
      "\u001b[0;31m---------------------------------------------------------------------------\u001b[0m",
      "\u001b[0;31mTypeError\u001b[0m                                 Traceback (most recent call last)",
      "\u001b[0;32m<ipython-input-23-d8f087f856a8>\u001b[0m in \u001b[0;36m<module>\u001b[0;34m()\u001b[0m\n\u001b[0;32m----> 1\u001b[0;31m \u001b[0mcl\u001b[0m\u001b[0;34m.\u001b[0m\u001b[0mDevice\u001b[0m\u001b[0;34m.\u001b[0m\u001b[0mget_info\u001b[0m\u001b[0;34m(\u001b[0m\u001b[0;34m'IMAGE_SUPPORT'\u001b[0m\u001b[0;34m)\u001b[0m\u001b[0;34m\u001b[0m\u001b[0m\n\u001b[0m",
      "\u001b[0;31mTypeError\u001b[0m: get_info(): incompatible function arguments. The following argument types are supported:\n    1. (self: pyopencl._cl.Device, arg0: int) -> object\n\nInvoked with: 'IMAGE_SUPPORT'"
     ],
     "output_type": "error"
    }
   ],
   "source": [
    ""
   ]
  },
  {
   "cell_type": "code",
   "execution_count": 26,
   "metadata": {},
   "outputs": [],
   "source": [
    "#setup of context queue and buffers\n",
    "#ctx = cl.create_some_context()\n",
    "\n",
    "my_gpu_devices = platform[0].get_devices(device_type=cl.device_type.GPU)\n",
    "ctx = cl.Context(devices=my_gpu_devices)\n",
    "\n",
    "queue = cl.CommandQueue(ctx)\n",
    "\n",
    "mf = cl.mem_flags\n",
    "a_buf = cl.Buffer\\\n",
    "   (ctx, mf.READ_ONLY | mf.COPY_HOST_PTR, hostbuf=a)\n",
    "b_buf = cl.Buffer\\\n",
    "   (ctx, mf.READ_ONLY | mf.COPY_HOST_PTR, hostbuf=b)\n",
    "c_buf = cl.Buffer(ctx, mf.WRITE_ONLY, c.nbytes)"
   ]
  },
  {
   "cell_type": "code",
   "execution_count": null,
   "metadata": {},
   "outputs": [],
   "source": [
    "prg = cl.Program(ctx, \"\"\"\n",
    "    __kernel void multiply(ushort n,\n",
    "                            ushort m, \n",
    "                            ushort p, \n",
    "                            __global float *a,\n",
    "                            __global float *b, \n",
    "                            __global float *c)\n",
    "    {\n",
    "      int gid = get_global_id(0);\n",
    "      c[gid] = 0.0f;\n",
    "      int rowC = gid/p;\n",
    "      int colC = gid%p;\n",
    "      __global float *pA = &a[rowC*m];\n",
    "      __global float *pB = &b[colC];\n",
    "      for(int k=0; k<m; k++)\n",
    "      {\n",
    "         pB = &b[colC+k*p];\n",
    "         c[gid] += (*(pA++))*(*pB);\n",
    "      }\n",
    "    }\n",
    "    \"\"\").build()\n"
   ]
  },
  {
   "cell_type": "code",
   "execution_count": null,
   "metadata": {},
   "outputs": [],
   "source": [
    "prg_sqrt = cl.Program(ctx, \"\"\"\n",
    "    __kernel void squareroot(ushort n, \n",
    "    ushortm, ushortp, \n",
    "\"\"\")\n"
   ]
  },
  {
   "cell_type": "code",
   "execution_count": 10,
   "metadata": {},
   "outputs": [
    {
     "data": {
      "text/plain": [
       "<pyopencl._cl.Event at 0x120264258>"
      ]
     },
     "execution_count": 10,
     "metadata": {},
     "output_type": "execute_result"
    },
    {
     "data": {
      "text/plain": [
       "<pyopencl._cl.NannyEvent at 0x113a7cd00>"
      ]
     },
     "execution_count": 10,
     "metadata": {},
     "output_type": "execute_result"
    },
    {
     "name": "stdout",
     "output_type": "stream",
     "text": [
      "matrix A:\n[[1. 1. 0. ... 0. 1. 1.]\n [0. 1. 0. ... 1. 1. 0.]\n [0. 0. 0. ... 1. 1. 1.]\n ...\n [1. 0. 0. ... 0. 0. 1.]\n [0. 1. 0. ... 0. 0. 0.]\n [1. 0. 1. ... 1. 1. 0.]]\nmatrix B:\n[[0. 0. 1. ... 1. 0. 0.]\n [0. 1. 0. ... 0. 0. 1.]\n [1. 0. 1. ... 0. 0. 1.]\n ...\n [0. 0. 1. ... 1. 1. 0.]\n [0. 0. 0. ... 0. 1. 1.]\n [1. 1. 1. ... 0. 1. 1.]]\nmultiplied A*B:\n[[483. 534. 493. ... 478. 495. 516.]\n [512. 551. 512. ... 498. 516. 540.]\n [474. 547. 506. ... 493. 515. 530.]\n ...\n [517. 535. 508. ... 491. 520. 525.]\n [497. 528. 513. ... 495. 511. 520.]\n [522. 558. 517. ... 517. 526. 551.]]\n"
     ]
    }
   ],
   "source": [
    "# prg.multiply(queue, c.shape, None,\n",
    "#              np.uint16(n), np.uint16(m), np.uint16(p),\n",
    "#              a_buf, b_buf, c_buf)\n",
    "# \n",
    "# a_mul_b = np.empty_like(c)\n",
    "# cl.enqueue_copy(queue, a_mul_b, c_buf)\n",
    "# \n",
    "# print(\"matrix A:\")\n",
    "# print(a.reshape(n, m))\n",
    "# print(\"matrix B:\")\n",
    "# print(b.reshape(m, p))\n",
    "# print(\"multiplied A*B:\")\n",
    "# print(a_mul_b.reshape(n, p))"
   ]
  },
  {
   "cell_type": "code",
   "execution_count": 28,
   "metadata": {},
   "outputs": [
    {
     "data": {
      "text/plain": [
       "<pyopencl._cl.Event at 0x1282d5468>"
      ]
     },
     "execution_count": 28,
     "metadata": {},
     "output_type": "execute_result"
    },
    {
     "name": "stdout",
     "output_type": "stream",
     "text": [
      "time is = 2799\n"
     ]
    },
    {
     "data": {
      "text/plain": [
       "<pyopencl._cl.NannyEvent at 0x1121a3938>"
      ]
     },
     "execution_count": 28,
     "metadata": {},
     "output_type": "execute_result"
    },
    {
     "name": "stdout",
     "output_type": "stream",
     "text": [
      "matrix A:\n[[1. 1. 0. ... 1. 1. 1.]\n [1. 0. 0. ... 1. 1. 0.]\n [1. 0. 0. ... 0. 0. 0.]\n ...\n [1. 1. 0. ... 1. 0. 1.]\n [0. 0. 1. ... 1. 0. 1.]\n [0. 0. 1. ... 1. 1. 0.]]\nmatrix B:\n[[1. 1. 0. ... 1. 1. 0.]\n [1. 1. 1. ... 1. 0. 0.]\n [0. 0. 0. ... 1. 1. 1.]\n ...\n [1. 1. 0. ... 0. 0. 1.]\n [1. 0. 1. ... 1. 1. 1.]\n [0. 1. 0. ... 1. 1. 0.]]\nmultiplied A*B:\n[[518. 528. 505. ... 497. 510. 518.]\n [503. 499. 490. ... 487. 490. 499.]\n [528. 516. 489. ... 504. 494. 539.]\n ...\n [533. 523. 519. ... 487. 516. 524.]\n [543. 527. 522. ... 500. 547. 540.]\n [504. 513. 507. ... 510. 494. 506.]]\n"
     ]
    }
   ],
   "source": [
    "#%timeit -n 100 prg.multiply(queue, c.shape, None, np.uint16(n), np.uint16(m), np.uint16(p), a_buf, b_buf, c_buf)\n",
    "start = datetime.now()\n",
    "prg.multiply(queue, c.shape, None, np.uint16(n), np.uint16(m), np.uint16(p), a_buf, b_buf, c_buf)\n",
    "stop = datetime.now()\n",
    "print(\"time is = \"+str((stop-start).microseconds))\n",
    "\n",
    "a_mul_b = np.empty_like(c)\n",
    "cl.enqueue_copy(queue, a_mul_b, c_buf)\n",
    "\n",
    "print(\"matrix A:\")\n",
    "print(a.reshape(n, m))\n",
    "print(\"matrix B:\")\n",
    "print(b.reshape(m, p))\n",
    "print(\"multiplied A*B:\")\n",
    "print(a_mul_b.reshape(n, p))"
   ]
  },
  {
   "cell_type": "code",
   "execution_count": 11,
   "metadata": {},
   "outputs": [
    {
     "data": {
      "text/plain": [
       "(4194304,)"
      ]
     },
     "execution_count": 14,
     "metadata": {},
     "output_type": "execute_result"
    },
    {
     "name": "stdout",
     "output_type": "stream",
     "text": [
      "(2048, 2048)\n"
     ]
    }
   ],
   "source": [
    "start = datetime.now()\n",
    "prg.multiply(queue, c.shape, None, np.uint16(n), np.uint16(m), np.uint16(p), a_buf, b_buf, c_buf)\n",
    "stop = datetime.now()\n",
    "print(\"time is = \"+str((stop-start).microseconds))\n"
   ]
  },
  {
   "cell_type": "code",
   "execution_count": 29,
   "metadata": {},
   "outputs": [
    {
     "data": {
      "text/plain": [
       "1048126.0"
      ]
     },
     "execution_count": 30,
     "metadata": {},
     "output_type": "execute_result"
    },
    {
     "name": "stdout",
     "output_type": "stream",
     "text": [
      "time is = 3363\n"
     ]
    }
   ],
   "source": [
    "(n, m, p) = (2048, 2048, 2048)\n",
    "\n",
    "# a = np.random.randn(n, m).astype(np.float32)\n",
    "# b = np.random.randn(m, p).astype(np.float32)\n",
    "d = np.random.randint(2, size=(n*m))\n",
    "e = np.random.randint(2, size=(m*p))\n",
    "f = np.zeros((n*p), dtype=np.float32)\n",
    "\n",
    "d = d.astype(np.float32)\n",
    "e = e.astype(np.float32)\n"
   ]
  },
  {
   "cell_type": "code",
   "execution_count": 30,
   "metadata": {},
   "outputs": [
    {
     "data": {
      "text/plain": [
       "1048126.0"
      ]
     },
     "execution_count": 30,
     "metadata": {},
     "output_type": "execute_result"
    },
    {
     "name": "stdout",
     "output_type": "stream",
     "text": [
      "time is = 3363\n"
     ]
    }
   ],
   "source": [
    "start = datetime.now()\n",
    "np.dot(d,e)\n",
    "stop = datetime.now()\n",
    "print(\"time is = \"+str((stop-start).microseconds))\n"
   ]
  },
  {
   "cell_type": "code",
   "execution_count": null,
   "metadata": {},
   "outputs": [],
   "source": []
  }
 ],
 "metadata": {
  "kernelspec": {
   "display_name": "Python 2",
   "language": "python",
   "name": "python2"
  },
  "language_info": {
   "codemirror_mode": {
    "name": "ipython",
    "version": 2
   },
   "file_extension": ".py",
   "mimetype": "text/x-python",
   "name": "python",
   "nbconvert_exporter": "python",
   "pygments_lexer": "ipython2",
   "version": "2.7.6"
  }
 },
 "nbformat": 4,
 "nbformat_minor": 0
}
