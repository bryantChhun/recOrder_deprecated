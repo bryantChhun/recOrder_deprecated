{
 "cells": [
  {
   "cell_type": "code",
   "execution_count": 1,
   "metadata": {},
   "outputs": [],
   "source": [
    "def timer(func):\n",
    "    def timer_wrap(*args, **kwargs):\n",
    "        start = datetime.now()\n",
    "        func(*args,**kwargs)\n",
    "        stop = datetime.now()\n",
    "        print( (stop-start).microseconds)\n",
    "    return timer_wrap"
   ]
  },
  {
   "cell_type": "code",
   "execution_count": 2,
   "metadata": {
    "collapsed": true
   },
   "outputs": [],
   "source": [
    "import numpy as np\n",
    "from datetime import datetime\n",
    "\n",
    "from IPython.core.interactiveshell import InteractiveShell\n",
    "InteractiveShell.ast_node_interactivity = 'all'"
   ]
  },
  {
   "cell_type": "code",
   "execution_count": 3,
   "metadata": {},
   "outputs": [],
   "source": [
    "I_ext = np.ones(shape=(2048,2048))\n",
    "I_90 = np.ones(shape=(2048,2048))\n",
    "I_135 = np.ones(shape=(2048,2048))\n",
    "I_45 = np.ones(shape=(2048,2048))\n",
    "I_0 = np.ones(shape=(2048,2048))"
   ]
  },
  {
   "cell_type": "code",
   "execution_count": 4,
   "metadata": {},
   "outputs": [],
   "source": [
    "img_raw = np.stack((I_ext, I_0, I_45, I_90, I_135))"
   ]
  },
  {
   "cell_type": "code",
   "execution_count": 5,
   "metadata": {},
   "outputs": [
    {
     "data": {
      "text/plain": [
       "(5, 2048, 2048)"
      ]
     },
     "execution_count": 5,
     "metadata": {},
     "output_type": "execute_result"
    }
   ],
   "source": [
    "img_raw.shape"
   ]
  },
  {
   "cell_type": "code",
   "execution_count": 6,
   "metadata": {},
   "outputs": [
    {
     "name": "stdout",
     "output_type": "stream",
     "text": [
      "212\n"
     ]
    }
   ],
   "source": [
    "start = datetime.now()\n",
    "img_raw_flat = np.reshape(img_raw, (5, 2048*2048))\n",
    "stop = datetime.now()\n",
    "print((stop-start).microseconds)"
   ]
  },
  {
   "cell_type": "code",
   "execution_count": 7,
   "metadata": {},
   "outputs": [],
   "source": [
    "def compute_inst_matrix():\n",
    "    chi = 0.2\n",
    "    inst_mat = np.array([[1, 0, 0, -1],\n",
    "                         [1, np.sin(chi), 0, -np.cos(chi)],\n",
    "                         [1, 0, np.sin(chi), -np.cos(chi)],\n",
    "                         [1, -np.sin(chi), 0, -np.cos(chi)],\n",
    "                         [1, 0, -np.sin(chi), -np.cos(chi)]])\n",
    "\n",
    "    inst_mat_inv = np.linalg.pinv(inst_mat)\n",
    "    return inst_mat_inv"
   ]
  },
  {
   "cell_type": "code",
   "execution_count": 8,
   "metadata": {},
   "outputs": [
    {
     "name": "stdout",
     "output_type": "stream",
     "text": [
      "5161\n"
     ]
    }
   ],
   "source": [
    "start = datetime.now()\n",
    "\n",
    "inverse = compute_inst_matrix()\n",
    "\n",
    "stop = datetime.now()\n",
    "print((stop-start).microseconds)"
   ]
  },
  {
   "cell_type": "code",
   "execution_count": 9,
   "metadata": {},
   "outputs": [
    {
     "data": {
      "text/plain": [
       "(4, 5)"
      ]
     },
     "execution_count": 9,
     "metadata": {},
     "output_type": "execute_result"
    },
    {
     "data": {
      "text/plain": [
       "(40, 8)"
      ]
     },
     "execution_count": 9,
     "metadata": {},
     "output_type": "execute_result"
    },
    {
     "data": {
      "text/plain": [
       "numpy.float64"
      ]
     },
     "execution_count": 9,
     "metadata": {},
     "output_type": "execute_result"
    }
   ],
   "source": [
    "inverse.shape\n",
    "inverse.strides\n",
    "type(inverse[0][0])\n"
   ]
  },
  {
   "cell_type": "code",
   "execution_count": 10,
   "metadata": {},
   "outputs": [
    {
     "data": {
      "text/plain": [
       "(5, 4194304)"
      ]
     },
     "execution_count": 10,
     "metadata": {},
     "output_type": "execute_result"
    },
    {
     "data": {
      "text/plain": [
       "(33554432, 8)"
      ]
     },
     "execution_count": 10,
     "metadata": {},
     "output_type": "execute_result"
    },
    {
     "data": {
      "text/plain": [
       "numpy.float64"
      ]
     },
     "execution_count": 10,
     "metadata": {},
     "output_type": "execute_result"
    }
   ],
   "source": [
    "img_raw_flat.shape\n",
    "img_raw_flat.strides\n",
    "type(img_raw_flat[0][0])"
   ]
  },
  {
   "cell_type": "code",
   "execution_count": 24,
   "metadata": {},
   "outputs": [
    {
     "name": "stdout",
     "output_type": "stream",
     "text": [
      "115470\n"
     ]
    }
   ],
   "source": [
    "#============= timing test =====================\n",
    "# data is float 54\n",
    "\n",
    "start = datetime.now()\n",
    "img_stokes_flat = np.dot(inverse, img_raw_flat)\n",
    "stop = datetime.now()\n",
    "print((stop-start).microseconds)"
   ]
  },
  {
   "cell_type": "code",
   "execution_count": 12,
   "metadata": {},
   "outputs": [
    {
     "data": {
      "text/plain": [
       "  C_CONTIGUOUS : True\n  F_CONTIGUOUS : False\n  OWNDATA : True\n  WRITEABLE : True\n  ALIGNED : True\n  WRITEBACKIFCOPY : False\n  UPDATEIFCOPY : False"
      ]
     },
     "execution_count": 12,
     "metadata": {},
     "output_type": "execute_result"
    },
    {
     "data": {
      "text/plain": [
       "  C_CONTIGUOUS : True\n  F_CONTIGUOUS : False\n  OWNDATA : False\n  WRITEABLE : True\n  ALIGNED : True\n  WRITEBACKIFCOPY : False\n  UPDATEIFCOPY : False"
      ]
     },
     "execution_count": 12,
     "metadata": {},
     "output_type": "execute_result"
    }
   ],
   "source": [
    "inverse.flags\n",
    "img_raw_flat.flags"
   ]
  },
  {
   "cell_type": "code",
   "execution_count": 25,
   "metadata": {
    "collapsed": false
   },
   "outputs": [
    {
     "name": "stdout",
     "output_type": "stream",
     "text": [
      "mkl_info:\n    libraries = ['mkl_rt', 'pthread']\n    library_dirs = ['/Users/bryant.chhun/anaconda3/envs/InstantPol3.6/lib']\n    define_macros = [('SCIPY_MKL_H', None), ('HAVE_CBLAS', None)]\n    include_dirs = ['/Users/bryant.chhun/anaconda3/envs/InstantPol3.6/include']\nblas_mkl_info:\n    libraries = ['mkl_rt', 'pthread']\n    library_dirs = ['/Users/bryant.chhun/anaconda3/envs/InstantPol3.6/lib']\n    define_macros = [('SCIPY_MKL_H', None), ('HAVE_CBLAS', None)]\n    include_dirs = ['/Users/bryant.chhun/anaconda3/envs/InstantPol3.6/include']\nblas_opt_info:\n    libraries = ['mkl_rt', 'pthread']\n    library_dirs = ['/Users/bryant.chhun/anaconda3/envs/InstantPol3.6/lib']\n    define_macros = [('SCIPY_MKL_H', None), ('HAVE_CBLAS', None)]\n    include_dirs = ['/Users/bryant.chhun/anaconda3/envs/InstantPol3.6/include']\nlapack_mkl_info:\n    libraries = ['mkl_rt', 'pthread']\n    library_dirs = ['/Users/bryant.chhun/anaconda3/envs/InstantPol3.6/lib']\n    define_macros = [('SCIPY_MKL_H', None), ('HAVE_CBLAS', None)]\n    include_dirs = ['/Users/bryant.chhun/anaconda3/envs/InstantPol3.6/include']\nlapack_opt_info:\n    libraries = ['mkl_rt', 'pthread']\n    library_dirs = ['/Users/bryant.chhun/anaconda3/envs/InstantPol3.6/lib']\n    define_macros = [('SCIPY_MKL_H', None), ('HAVE_CBLAS', None)]\n    include_dirs = ['/Users/bryant.chhun/anaconda3/envs/InstantPol3.6/include']\n"
     ]
    }
   ],
   "source": [
    "np.show_config()"
   ]
  },
  {
   "cell_type": "code",
   "execution_count": 32,
   "metadata": {},
   "outputs": [],
   "source": [
    "from scipy.linalg.blas import dgemm\n",
    "from scipy.linalg.blas import dsymm"
   ]
  },
  {
   "cell_type": "code",
   "execution_count": 28,
   "metadata": {},
   "outputs": [
    {
     "name": "stdout",
     "output_type": "stream",
     "text": [
      "230132\n"
     ]
    }
   ],
   "source": [
    "start = datetime.now()\n",
    "img_stokes_flat = dgemm(alpha=1., a=inverse, b=img_raw_flat)\n",
    "stop = datetime.now()\n",
    "print((stop-start).microseconds)"
   ]
  },
  {
   "cell_type": "code",
   "execution_count": 33,
   "metadata": {},
   "outputs": [
    {
     "name": "stdout",
     "output_type": "stream",
     "text": [
      "233890\n"
     ]
    }
   ],
   "source": [
    "start = datetime.now()\n",
    "img_stokes_flat = dsymm(alpha=1., a=inverse, b=img_raw_flat)\n",
    "stop = datetime.now()\n",
    "print((stop-start).microseconds)"
   ]
  },
  {
   "cell_type": "code",
   "execution_count": 62,
   "metadata": {},
   "outputs": [
    {
     "name": "stdout",
     "output_type": "stream",
     "text": [
      "29665\n"
     ]
    }
   ],
   "source": [
    "# =========== timing test ===================\n",
    "# data is float 32\n",
    "\n",
    "inverse = inverse.astype(np.float32)\n",
    "img_raw_flat = img_raw_flat.astype(np.float32)\n",
    "\n",
    "start = datetime.now()\n",
    "img_stokes_flat = np.dot(inverse, img_raw_flat)\n",
    "stop = datetime.now()\n",
    "print((stop-start).microseconds)"
   ]
  },
  {
   "cell_type": "code",
   "execution_count": 64,
   "metadata": {},
   "outputs": [
    {
     "name": "stdout",
     "output_type": "stream",
     "text": [
      "26573\n"
     ]
    }
   ],
   "source": [
    "# =========== timing test ===================\n",
    "# data is float 32\n",
    "\n",
    "inverse = inverse.astype(np.float32)\n",
    "img_raw_flat = img_raw_flat.astype(np.float32)\n",
    "\n",
    "start = datetime.now()\n",
    "img_stokes_flat = np.dot(inverse, img_raw_flat)\n",
    "stop = datetime.now()\n",
    "print((stop-start).microseconds)"
   ]
  },
  {
   "cell_type": "code",
   "execution_count": 66,
   "metadata": {},
   "outputs": [
    {
     "name": "stdout",
     "output_type": "stream",
     "text": [
      "/var/folders/43/m27gc01d3c15nl1v53qdv58c0000gp/T/tmpaqtyv4h_/source.c:1:10: fatal error: 'cblas.h' file not found\n#include <cblas.h>\n         ^~~~~~~~~\n1 error generated.\n/var/folders/43/m27gc01d3c15nl1v53qdv58c0000gp/T/tmpaqtyv4h_/source.c:1:10: fatal error: 'cblas.h' file not found\n#include <cblas.h>\n         ^~~~~~~~~\n1 error generated.\n"
     ]
    },
    {
     "data": {
      "text/plain": [
       "{'libraries': ['blas', 'blas'],\n 'library_dirs': ['/usr/lib'],\n 'include_dirs': ['/usr/local/include',\n  '/usr/include',\n  '/Users/bryant.chhun/anaconda3/envs/InstantPol3.6/include']}"
      ]
     },
     "execution_count": 66,
     "metadata": {},
     "output_type": "execute_result"
    }
   ],
   "source": [
    "import numpy.distutils.system_info as sysinfo\n",
    "sysinfo.get_info('blas')"
   ]
  },
  {
   "cell_type": "code",
   "execution_count": 68,
   "metadata": {},
   "outputs": [
    {
     "name": "stdout",
     "output_type": "stream",
     "text": [
      "mkl_info:\n    libraries = ['mkl_rt', 'pthread']\n    library_dirs = ['/Users/bryant.chhun/anaconda3/envs/InstantPol3.6/lib']\n    define_macros = [('SCIPY_MKL_H', None), ('HAVE_CBLAS', None)]\n    include_dirs = ['/Users/bryant.chhun/anaconda3/envs/InstantPol3.6/include']\nblas_mkl_info:\n    libraries = ['mkl_rt', 'pthread']\n    library_dirs = ['/Users/bryant.chhun/anaconda3/envs/InstantPol3.6/lib']\n    define_macros = [('SCIPY_MKL_H', None), ('HAVE_CBLAS', None)]\n    include_dirs = ['/Users/bryant.chhun/anaconda3/envs/InstantPol3.6/include']\nblas_opt_info:\n    libraries = ['mkl_rt', 'pthread']\n    library_dirs = ['/Users/bryant.chhun/anaconda3/envs/InstantPol3.6/lib']\n    define_macros = [('SCIPY_MKL_H', None), ('HAVE_CBLAS', None)]\n    include_dirs = ['/Users/bryant.chhun/anaconda3/envs/InstantPol3.6/include']\nlapack_mkl_info:\n    libraries = ['mkl_rt', 'pthread']\n    library_dirs = ['/Users/bryant.chhun/anaconda3/envs/InstantPol3.6/lib']\n    define_macros = [('SCIPY_MKL_H', None), ('HAVE_CBLAS', None)]\n    include_dirs = ['/Users/bryant.chhun/anaconda3/envs/InstantPol3.6/include']\nlapack_opt_info:\n    libraries = ['mkl_rt', 'pthread']\n    library_dirs = ['/Users/bryant.chhun/anaconda3/envs/InstantPol3.6/lib']\n    define_macros = [('SCIPY_MKL_H', None), ('HAVE_CBLAS', None)]\n    include_dirs = ['/Users/bryant.chhun/anaconda3/envs/InstantPol3.6/include']\n"
     ]
    }
   ],
   "source": [
    "np.__config__.show()"
   ]
  },
  {
   "cell_type": "code",
   "execution_count": null,
   "metadata": {},
   "outputs": [],
   "source": []
  }
 ],
 "metadata": {
  "kernelspec": {
   "display_name": "Python 2",
   "language": "python",
   "name": "python2"
  },
  "language_info": {
   "codemirror_mode": {
    "name": "ipython",
    "version": 2
   },
   "file_extension": ".py",
   "mimetype": "text/x-python",
   "name": "python",
   "nbconvert_exporter": "python",
   "pygments_lexer": "ipython2",
   "version": "2.7.6"
  }
 },
 "nbformat": 4,
 "nbformat_minor": 0
}
