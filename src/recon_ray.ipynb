{
 "cells": [
  {
   "cell_type": "code",
   "execution_count": 1,
   "metadata": {
    "collapsed": true
   },
   "outputs": [
    {
     "name": "stderr",
     "output_type": "stream",
     "text": [
      "Process STDOUT and STDERR is being redirected to /tmp/ray/session_2018-12-18_16-25-34_80228/logs.\n"
     ]
    },
    {
     "name": "stderr",
     "output_type": "stream",
     "text": [
      "Waiting for redis server at 127.0.0.1:10290 to respond...\n"
     ]
    },
    {
     "name": "stderr",
     "output_type": "stream",
     "text": [
      "Waiting for redis server at 127.0.0.1:14358 to respond...\n"
     ]
    },
    {
     "name": "stderr",
     "output_type": "stream",
     "text": [
      "Starting the Plasma object store with 6.871947672999999 GB memory using /tmp.\n"
     ]
    },
    {
     "data": {
      "text/plain": [
       "{'node_ip_address': '192.168.101.161',\n 'redis_address': '192.168.101.161:10290',\n 'object_store_addresses': ['/tmp/ray/session_2018-12-18_16-25-34_80228/sockets/plasma_store'],\n 'raylet_socket_names': ['/tmp/ray/session_2018-12-18_16-25-34_80228/sockets/raylet'],\n 'webui_url': ''}"
      ]
     },
     "execution_count": 2,
     "metadata": {},
     "output_type": "execute_result"
    }
   ],
   "source": [
    "import numpy as np\n",
    "from datetime import datetime\n",
    "import ray\n",
    "\n",
    "from IPython.core.interactiveshell import InteractiveShell\n",
    "InteractiveShell.ast_node_interactivity = 'all'\n",
    "\n",
    "import time"
   ]
  },
  {
   "cell_type": "code",
   "execution_count": 2,
   "metadata": {
    "collapsed": true
   },
   "outputs": [
    {
     "name": "stderr",
     "output_type": "stream",
     "text": [
      "Process STDOUT and STDERR is being redirected to /tmp/ray/session_2018-12-18_16-25-34_80228/logs.\n"
     ]
    },
    {
     "name": "stderr",
     "output_type": "stream",
     "text": [
      "Waiting for redis server at 127.0.0.1:10290 to respond...\n"
     ]
    },
    {
     "name": "stderr",
     "output_type": "stream",
     "text": [
      "Waiting for redis server at 127.0.0.1:14358 to respond...\n"
     ]
    },
    {
     "name": "stderr",
     "output_type": "stream",
     "text": [
      "Starting the Plasma object store with 6.871947672999999 GB memory using /tmp.\n"
     ]
    },
    {
     "data": {
      "text/plain": [
       "{'node_ip_address': '192.168.101.161',\n 'redis_address': '192.168.101.161:10290',\n 'object_store_addresses': ['/tmp/ray/session_2018-12-18_16-25-34_80228/sockets/plasma_store'],\n 'raylet_socket_names': ['/tmp/ray/session_2018-12-18_16-25-34_80228/sockets/raylet'],\n 'webui_url': ''}"
      ]
     },
     "execution_count": 2,
     "metadata": {},
     "output_type": "execute_result"
    }
   ],
   "source": [
    "\n",
    "ray.init(num_cpus=4, include_webui=False, ignore_reinit_error=True)"
   ]
  },
  {
   "cell_type": "code",
   "execution_count": 34,
   "metadata": {},
   "outputs": [],
   "source": [
    "@ray.remote\n",
    "class RayProc(object):\n",
    "    def __init__(self):\n",
    "        self._images = []\n",
    "        \n",
    "    def set_image(self,image: np.array):\n",
    "        self._images.append(image)\n",
    "    \n",
    "    def get_image(self, idx):\n",
    "        return self._images[idx]\n",
    "    \n",
    "    def simple_proc(self):\n",
    "        self._images[-1] = np.sqrt(self._images[-1])\n"
   ]
  },
  {
   "cell_type": "code",
   "execution_count": 43,
   "metadata": {},
   "outputs": [],
   "source": [
    "\n",
    "processor= RayProc.remote()"
   ]
  },
  {
   "cell_type": "code",
   "execution_count": 44,
   "metadata": {},
   "outputs": [],
   "source": [
    "@ray.remote\n",
    "def run_expt(idx, img, process):\n",
    "    process.set_image.remote(img)\n",
    "    if idx%2==0:\n",
    "        process.simple_proc.remote()"
   ]
  },
  {
   "cell_type": "code",
   "execution_count": 45,
   "metadata": {},
   "outputs": [],
   "source": [
    "images = [16*np.ones(shape=(512,512)) for k in range(0,5)]"
   ]
  },
  {
   "cell_type": "code",
   "execution_count": 46,
   "metadata": {},
   "outputs": [],
   "source": [
    "test = [run_expt.remote(i, images[i], processor) for i in range(0,5)]\n"
   ]
  },
  {
   "cell_type": "code",
   "execution_count": 47,
   "metadata": {},
   "outputs": [
    {
     "data": {
      "text/plain": [
       "array([[4., 4., 4., ..., 4., 4., 4.],\n       [4., 4., 4., ..., 4., 4., 4.],\n       [4., 4., 4., ..., 4., 4., 4.],\n       ...,\n       [4., 4., 4., ..., 4., 4., 4.],\n       [4., 4., 4., ..., 4., 4., 4.],\n       [4., 4., 4., ..., 4., 4., 4.]])"
      ]
     },
     "execution_count": 47,
     "metadata": {},
     "output_type": "execute_result"
    },
    {
     "data": {
      "text/plain": [
       "array([[16., 16., 16., ..., 16., 16., 16.],\n       [16., 16., 16., ..., 16., 16., 16.],\n       [16., 16., 16., ..., 16., 16., 16.],\n       ...,\n       [16., 16., 16., ..., 16., 16., 16.],\n       [16., 16., 16., ..., 16., 16., 16.],\n       [16., 16., 16., ..., 16., 16., 16.]])"
      ]
     },
     "execution_count": 47,
     "metadata": {},
     "output_type": "execute_result"
    },
    {
     "data": {
      "text/plain": [
       "array([[4., 4., 4., ..., 4., 4., 4.],\n       [4., 4., 4., ..., 4., 4., 4.],\n       [4., 4., 4., ..., 4., 4., 4.],\n       ...,\n       [4., 4., 4., ..., 4., 4., 4.],\n       [4., 4., 4., ..., 4., 4., 4.],\n       [4., 4., 4., ..., 4., 4., 4.]])"
      ]
     },
     "execution_count": 47,
     "metadata": {},
     "output_type": "execute_result"
    }
   ],
   "source": [
    "ray.get(processor.get_image.remote(0))\n",
    "ray.get(processor.get_image.remote(1))\n",
    "ray.get(processor.get_image.remote(2))"
   ]
  },
  {
   "cell_type": "code",
   "execution_count": null,
   "metadata": {},
   "outputs": [],
   "source": [
    "\n",
    "\n"
   ]
  }
 ],
 "metadata": {
  "kernelspec": {
   "display_name": "Python 2",
   "language": "python",
   "name": "python2"
  },
  "language_info": {
   "codemirror_mode": {
    "name": "ipython",
    "version": 2
   },
   "file_extension": ".py",
   "mimetype": "text/x-python",
   "name": "python",
   "nbconvert_exporter": "python",
   "pygments_lexer": "ipython2",
   "version": "2.7.6"
  }
 },
 "nbformat": 4,
 "nbformat_minor": 0
}
