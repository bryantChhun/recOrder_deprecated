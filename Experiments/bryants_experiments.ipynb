{
 "cells": [
  {
   "cell_type": "code",
   "execution_count": 2,
   "metadata": {
    "collapsed": false
   },
   "outputs": [],
   "source": [
    "import sys\n",
    "from PyQt5.QtWidgets import QApplication, QWidget\n",
    "\n",
    "import numpy as np\n",
    "\n",
    "from skimage import data\n",
    "\n",
    "from IPython.core.interactiveshell import InteractiveShell\n",
    "InteractiveShell.ast_node_interactivity = 'all'\n",
    "\n",
    "import matplotlib.pyplot as plt"
   ]
  },
  {
   "cell_type": "code",
   "execution_count": 4,
   "metadata": {},
   "outputs": [],
   "source": [
    "im = data.astronaut()"
   ]
  },
  {
   "cell_type": "code",
   "execution_count": 5,
   "metadata": {},
   "outputs": [
    {
     "data": {
      "text/plain": [
       "(512, 512, 3)"
      ]
     },
     "execution_count": 5,
     "metadata": {},
     "output_type": "execute_result"
    },
    {
     "data": {
      "text/plain": [
       "numpy.ndarray"
      ]
     },
     "execution_count": 5,
     "metadata": {},
     "output_type": "execute_result"
    },
    {
     "data": {
      "text/plain": [
       "255"
      ]
     },
     "execution_count": 5,
     "metadata": {},
     "output_type": "execute_result"
    },
    {
     "data": {
      "text/plain": [
       "0"
      ]
     },
     "execution_count": 5,
     "metadata": {},
     "output_type": "execute_result"
    }
   ],
   "source": [
    "im.shape\n",
    "type(im)\n",
    "np.max(im)\n",
    "np.min(im)"
   ]
  },
  {
   "cell_type": "code",
   "execution_count": 6,
   "metadata": {},
   "outputs": [
    {
     "name": "stderr",
     "output_type": "stream",
     "text": [
      "/Users/bryant.chhun/anaconda3/envs/InstantPol3.6/lib/python3.6/site-packages/ipykernel_launcher.py:1: DeprecationWarning: This function is deprecated. Please call randint(0, 255 + 1) instead\n  \"\"\"Entry point for launching an IPython kernel.\n"
     ]
    }
   ],
   "source": [
    "randim = np.random.random_integers(0,255, size=(512,512))"
   ]
  },
  {
   "cell_type": "code",
   "execution_count": null,
   "metadata": {},
   "outputs": [],
   "source": [
    "plt.imshow(randim)"
   ]
  },
  {
   "cell_type": "code",
   "execution_count": 14,
   "metadata": {},
   "outputs": [],
   "source": [
    "#=========== Vispy tests ================================="
   ]
  },
  {
   "cell_type": "code",
   "execution_count": 5,
   "metadata": {},
   "outputs": [],
   "source": [
    "from vispy import app, gloo, visuals\n",
    "from vispy.visuals.transforms import STTransform, NullTransform\n"
   ]
  },
  {
   "cell_type": "code",
   "execution_count": 6,
   "metadata": {},
   "outputs": [],
   "source": [
    "# vertex positions of data to draw\n",
    "N = 20\n",
    "pos = np.zeros((N, 2), dtype=np.float32)\n",
    "pos[:, 0] = np.linspace(10, 390, N)\n",
    "pos[:, 1] = np.random.normal(size=N, scale=20, loc=0)\n",
    "\n",
    "# color array\n",
    "color = np.ones((N, 4), dtype=np.float32)\n",
    "color[:, 0] = np.linspace(0, 1, N)\n",
    "color[:, 1] = color[::-1, 0]\n",
    "\n",
    "# connection array\n",
    "# connect = np.empty((N-1, 2), np.int32)\n",
    "# connect[:, 0] = np.arange(N-1)\n",
    "# connect[:, 1] = connect[:, 0] + 1\n",
    "# connect[N//2, 1] = N//2  # put a break in the middle\n",
    "connect='segments'"
   ]
  },
  {
   "cell_type": "code",
   "execution_count": 7,
   "metadata": {},
   "outputs": [
    {
     "data": {
      "text/plain": [
       "(20, 2)"
      ]
     },
     "execution_count": 7,
     "metadata": {},
     "output_type": "execute_result"
    }
   ],
   "source": [
    "pos.shape"
   ]
  },
  {
   "cell_type": "code",
   "execution_count": 37,
   "metadata": {},
   "outputs": [
    {
     "data": {
      "text/plain": [
       "array([ 10.      , -35.461082], dtype=float32)"
      ]
     },
     "execution_count": 37,
     "metadata": {},
     "output_type": "execute_result"
    }
   ],
   "source": [
    "pos[0]"
   ]
  },
  {
   "cell_type": "code",
   "execution_count": 15,
   "metadata": {},
   "outputs": [],
   "source": [
    "nx, ny = (20, 20)\n",
    "x = np.linspace(0, 1, nx)\n",
    "y = np.linspace(0, 1, ny)\n",
    "xv, yv = np.meshgrid(x, y)"
   ]
  },
  {
   "cell_type": "code",
   "execution_count": 24,
   "metadata": {},
   "outputs": [
    {
     "data": {
      "text/plain": [
       "array([ 0.,  1.,  2.,  3.,  4.,  5.,  6.,  7.,  8.,  9., 10., 11., 12.,\n       13., 14., 15., 16., 17., 18., 19.])"
      ]
     },
     "execution_count": 24,
     "metadata": {},
     "output_type": "execute_result"
    }
   ],
   "source": [
    "n = 20\n",
    "dim = np.linspace(0,19,n)\n",
    "dim"
   ]
  },
  {
   "cell_type": "code",
   "execution_count": 26,
   "metadata": {
    "collapsed": true
   },
   "outputs": [
    {
     "data": {
      "text/plain": [
       "array([[ 0.,  1.,  2.,  3.,  4.,  5.,  6.,  7.,  8.,  9., 10., 11., 12.,\n        13., 14., 15., 16., 17., 18., 19.],\n       [ 0.,  1.,  2.,  3.,  4.,  5.,  6.,  7.,  8.,  9., 10., 11., 12.,\n        13., 14., 15., 16., 17., 18., 19.],\n       [ 0.,  1.,  2.,  3.,  4.,  5.,  6.,  7.,  8.,  9., 10., 11., 12.,\n        13., 14., 15., 16., 17., 18., 19.],\n       [ 0.,  1.,  2.,  3.,  4.,  5.,  6.,  7.,  8.,  9., 10., 11., 12.,\n        13., 14., 15., 16., 17., 18., 19.],\n       [ 0.,  1.,  2.,  3.,  4.,  5.,  6.,  7.,  8.,  9., 10., 11., 12.,\n        13., 14., 15., 16., 17., 18., 19.],\n       [ 0.,  1.,  2.,  3.,  4.,  5.,  6.,  7.,  8.,  9., 10., 11., 12.,\n        13., 14., 15., 16., 17., 18., 19.],\n       [ 0.,  1.,  2.,  3.,  4.,  5.,  6.,  7.,  8.,  9., 10., 11., 12.,\n        13., 14., 15., 16., 17., 18., 19.],\n       [ 0.,  1.,  2.,  3.,  4.,  5.,  6.,  7.,  8.,  9., 10., 11., 12.,\n        13., 14., 15., 16., 17., 18., 19.],\n       [ 0.,  1.,  2.,  3.,  4.,  5.,  6.,  7.,  8.,  9., 10., 11., 12.,\n        13., 14., 15., 16., 17., 18., 19.],\n       [ 0.,  1.,  2.,  3.,  4.,  5.,  6.,  7.,  8.,  9., 10., 11., 12.,\n        13., 14., 15., 16., 17., 18., 19.],\n       [ 0.,  1.,  2.,  3.,  4.,  5.,  6.,  7.,  8.,  9., 10., 11., 12.,\n        13., 14., 15., 16., 17., 18., 19.],\n       [ 0.,  1.,  2.,  3.,  4.,  5.,  6.,  7.,  8.,  9., 10., 11., 12.,\n        13., 14., 15., 16., 17., 18., 19.],\n       [ 0.,  1.,  2.,  3.,  4.,  5.,  6.,  7.,  8.,  9., 10., 11., 12.,\n        13., 14., 15., 16., 17., 18., 19.],\n       [ 0.,  1.,  2.,  3.,  4.,  5.,  6.,  7.,  8.,  9., 10., 11., 12.,\n        13., 14., 15., 16., 17., 18., 19.],\n       [ 0.,  1.,  2.,  3.,  4.,  5.,  6.,  7.,  8.,  9., 10., 11., 12.,\n        13., 14., 15., 16., 17., 18., 19.],\n       [ 0.,  1.,  2.,  3.,  4.,  5.,  6.,  7.,  8.,  9., 10., 11., 12.,\n        13., 14., 15., 16., 17., 18., 19.],\n       [ 0.,  1.,  2.,  3.,  4.,  5.,  6.,  7.,  8.,  9., 10., 11., 12.,\n        13., 14., 15., 16., 17., 18., 19.],\n       [ 0.,  1.,  2.,  3.,  4.,  5.,  6.,  7.,  8.,  9., 10., 11., 12.,\n        13., 14., 15., 16., 17., 18., 19.],\n       [ 0.,  1.,  2.,  3.,  4.,  5.,  6.,  7.,  8.,  9., 10., 11., 12.,\n        13., 14., 15., 16., 17., 18., 19.],\n       [ 0.,  1.,  2.,  3.,  4.,  5.,  6.,  7.,  8.,  9., 10., 11., 12.,\n        13., 14., 15., 16., 17., 18., 19.]])"
      ]
     },
     "execution_count": 26,
     "metadata": {},
     "output_type": "execute_result"
    },
    {
     "data": {
      "text/plain": [
       "array([[ 0.,  0.,  0.,  0.,  0.,  0.,  0.,  0.,  0.,  0.,  0.,  0.,  0.,\n         0.,  0.,  0.,  0.,  0.,  0.,  0.],\n       [ 1.,  1.,  1.,  1.,  1.,  1.,  1.,  1.,  1.,  1.,  1.,  1.,  1.,\n         1.,  1.,  1.,  1.,  1.,  1.,  1.],\n       [ 2.,  2.,  2.,  2.,  2.,  2.,  2.,  2.,  2.,  2.,  2.,  2.,  2.,\n         2.,  2.,  2.,  2.,  2.,  2.,  2.],\n       [ 3.,  3.,  3.,  3.,  3.,  3.,  3.,  3.,  3.,  3.,  3.,  3.,  3.,\n         3.,  3.,  3.,  3.,  3.,  3.,  3.],\n       [ 4.,  4.,  4.,  4.,  4.,  4.,  4.,  4.,  4.,  4.,  4.,  4.,  4.,\n         4.,  4.,  4.,  4.,  4.,  4.,  4.],\n       [ 5.,  5.,  5.,  5.,  5.,  5.,  5.,  5.,  5.,  5.,  5.,  5.,  5.,\n         5.,  5.,  5.,  5.,  5.,  5.,  5.],\n       [ 6.,  6.,  6.,  6.,  6.,  6.,  6.,  6.,  6.,  6.,  6.,  6.,  6.,\n         6.,  6.,  6.,  6.,  6.,  6.,  6.],\n       [ 7.,  7.,  7.,  7.,  7.,  7.,  7.,  7.,  7.,  7.,  7.,  7.,  7.,\n         7.,  7.,  7.,  7.,  7.,  7.,  7.],\n       [ 8.,  8.,  8.,  8.,  8.,  8.,  8.,  8.,  8.,  8.,  8.,  8.,  8.,\n         8.,  8.,  8.,  8.,  8.,  8.,  8.],\n       [ 9.,  9.,  9.,  9.,  9.,  9.,  9.,  9.,  9.,  9.,  9.,  9.,  9.,\n         9.,  9.,  9.,  9.,  9.,  9.,  9.],\n       [10., 10., 10., 10., 10., 10., 10., 10., 10., 10., 10., 10., 10.,\n        10., 10., 10., 10., 10., 10., 10.],\n       [11., 11., 11., 11., 11., 11., 11., 11., 11., 11., 11., 11., 11.,\n        11., 11., 11., 11., 11., 11., 11.],\n       [12., 12., 12., 12., 12., 12., 12., 12., 12., 12., 12., 12., 12.,\n        12., 12., 12., 12., 12., 12., 12.],\n       [13., 13., 13., 13., 13., 13., 13., 13., 13., 13., 13., 13., 13.,\n        13., 13., 13., 13., 13., 13., 13.],\n       [14., 14., 14., 14., 14., 14., 14., 14., 14., 14., 14., 14., 14.,\n        14., 14., 14., 14., 14., 14., 14.],\n       [15., 15., 15., 15., 15., 15., 15., 15., 15., 15., 15., 15., 15.,\n        15., 15., 15., 15., 15., 15., 15.],\n       [16., 16., 16., 16., 16., 16., 16., 16., 16., 16., 16., 16., 16.,\n        16., 16., 16., 16., 16., 16., 16.],\n       [17., 17., 17., 17., 17., 17., 17., 17., 17., 17., 17., 17., 17.,\n        17., 17., 17., 17., 17., 17., 17.],\n       [18., 18., 18., 18., 18., 18., 18., 18., 18., 18., 18., 18., 18.,\n        18., 18., 18., 18., 18., 18., 18.],\n       [19., 19., 19., 19., 19., 19., 19., 19., 19., 19., 19., 19., 19.,\n        19., 19., 19., 19., 19., 19., 19.]])"
      ]
     },
     "execution_count": 26,
     "metadata": {},
     "output_type": "execute_result"
    }
   ],
   "source": [
    "xv, yv = np.meshgrid(dim, dim)\n",
    "xv\n",
    "yv"
   ]
  },
  {
   "cell_type": "code",
   "execution_count": 55,
   "metadata": {},
   "outputs": [
    {
     "data": {
      "text/plain": [
       "(400, 2)"
      ]
     },
     "execution_count": 55,
     "metadata": {},
     "output_type": "execute_result"
    }
   ],
   "source": [
    "N=20\n",
    "pos2 = np.zeros((400, 2), dtype=np.float32)\n",
    "pos2.shape"
   ]
  },
  {
   "cell_type": "code",
   "execution_count": 57,
   "metadata": {},
   "outputs": [],
   "source": [
    "pos2[:,0] = xv.flatten()\n",
    "pos2[:,1] = yv.flatten()"
   ]
  },
  {
   "cell_type": "code",
   "execution_count": 79,
   "metadata": {},
   "outputs": [],
   "source": [
    "pos2[::2,1] += 1"
   ]
  },
  {
   "cell_type": "code",
   "execution_count": 80,
   "metadata": {},
   "outputs": [
    {
     "data": {
      "text/plain": [
       "array([0., 2.], dtype=float32)"
      ]
     },
     "execution_count": 80,
     "metadata": {},
     "output_type": "execute_result"
    },
    {
     "data": {
      "text/plain": [
       "array([1., 0.], dtype=float32)"
      ]
     },
     "execution_count": 80,
     "metadata": {},
     "output_type": "execute_result"
    },
    {
     "data": {
      "text/plain": [
       "array([2., 1.], dtype=float32)"
      ]
     },
     "execution_count": 80,
     "metadata": {},
     "output_type": "execute_result"
    }
   ],
   "source": [
    "pos2[0]\n",
    "pos2[1]\n",
    "pos2[2]"
   ]
  },
  {
   "cell_type": "code",
   "execution_count": 81,
   "metadata": {},
   "outputs": [
    {
     "data": {
      "text/plain": [
       "[array([0., 2.], dtype=float32),\n array([1., 0.], dtype=float32),\n array([2., 1.], dtype=float32),\n array([3., 0.], dtype=float32),\n array([4., 1.], dtype=float32),\n array([5., 0.], dtype=float32),\n array([6., 1.], dtype=float32),\n array([7., 0.], dtype=float32),\n array([8., 1.], dtype=float32),\n array([9., 0.], dtype=float32),\n array([10.,  1.], dtype=float32),\n array([11.,  0.], dtype=float32),\n array([12.,  1.], dtype=float32),\n array([13.,  0.], dtype=float32),\n array([14.,  1.], dtype=float32),\n array([15.,  0.], dtype=float32),\n array([16.,  1.], dtype=float32),\n array([17.,  0.], dtype=float32),\n array([18.,  1.], dtype=float32),\n array([19.,  0.], dtype=float32)]"
      ]
     },
     "execution_count": 81,
     "metadata": {},
     "output_type": "execute_result"
    }
   ],
   "source": [
    "[pos2[k] for k in range(0,20)]"
   ]
  },
  {
   "cell_type": "code",
   "execution_count": 2,
   "metadata": {},
   "outputs": [],
   "source": [
    "k1 = \"1x1\"\n",
    "k2 = \"2x2\""
   ]
  },
  {
   "cell_type": "code",
   "execution_count": 4,
   "metadata": {},
   "outputs": [],
   "source": [
    "test = {\"1x1\":(1,1)}"
   ]
  },
  {
   "cell_type": "code",
   "execution_count": 2,
   "metadata": {},
   "outputs": [],
   "source": [
    "xdim = 20\n",
    "ydim = 20\n",
    "\n",
    "pos = np.zeros((4*xdim*ydim, 2), dtype=np.float32)"
   ]
  },
  {
   "cell_type": "code",
   "execution_count": null,
   "metadata": {},
   "outputs": [
    {
     "data": {
      "text/plain": [
       "1600"
      ]
     },
     "execution_count": 3,
     "metadata": {},
     "output_type": "execute_result"
    }
   ],
   "source": [
    "xspace = np.linspace(0, xdim-1, 2*xdim)\n",
    "yspace = np.linspace(0, ydim-1, 2*ydim)\n",
    "xv, yv = np.meshgrid(xspace, yspace)"
   ]
  },
  {
   "cell_type": "code",
   "execution_count": null,
   "metadata": {},
   "outputs": [
    {
     "data": {
      "text/plain": [
       "40"
      ]
     },
     "execution_count": 6,
     "metadata": {},
     "output_type": "execute_result"
    }
   ],
   "source": [
    "len(xspace)\n",
    "len(yspace)"
   ]
  },
  {
   "cell_type": "code",
   "execution_count": 3,
   "metadata": {},
   "outputs": [],
   "source": [
    "import numpy as np\n",
    "import matplotlib.pyplot as plt\n",
    "\n",
    "space = np.linspace(0,10, 10, endpoint=False)\n",
    "xv, yv = np.meshgrid(space, space)"
   ]
  },
  {
   "cell_type": "code",
   "execution_count": 4,
   "metadata": {},
   "outputs": [
    {
     "ename": "ValueError",
     "evalue": "shape-mismatch for sum",
     "traceback": [
      "\u001b[0;31m---------------------------------------------------------------------------\u001b[0m",
      "\u001b[0;31mValueError\u001b[0m                                Traceback (most recent call last)",
      "\u001b[0;32m<ipython-input-4-d9bcd3133227>\u001b[0m in \u001b[0;36m<module>\u001b[0;34m\u001b[0m\n\u001b[1;32m      1\u001b[0m \u001b[0mtest\u001b[0m \u001b[0;34m=\u001b[0m \u001b[0mnp\u001b[0m\u001b[0;34m.\u001b[0m\u001b[0mrandom\u001b[0m\u001b[0;34m.\u001b[0m\u001b[0mrandom\u001b[0m\u001b[0;34m(\u001b[0m\u001b[0;34m(\u001b[0m\u001b[0;36m16\u001b[0m\u001b[0;34m,\u001b[0m\u001b[0;36m16\u001b[0m\u001b[0;34m)\u001b[0m\u001b[0;34m)\u001b[0m\u001b[0;34m\u001b[0m\u001b[0;34m\u001b[0m\u001b[0m\n\u001b[1;32m      2\u001b[0m \u001b[0mW\u001b[0m \u001b[0;34m=\u001b[0m \u001b[0mnp\u001b[0m\u001b[0;34m.\u001b[0m\u001b[0mones\u001b[0m\u001b[0;34m(\u001b[0m\u001b[0mshape\u001b[0m\u001b[0;34m=\u001b[0m\u001b[0;34m(\u001b[0m\u001b[0;36m3\u001b[0m\u001b[0;34m,\u001b[0m\u001b[0;36m3\u001b[0m\u001b[0;34m)\u001b[0m\u001b[0;34m)\u001b[0m\u001b[0;34m\u001b[0m\u001b[0;34m\u001b[0m\u001b[0m\n\u001b[0;32m----> 3\u001b[0;31m \u001b[0mout\u001b[0m \u001b[0;34m=\u001b[0m \u001b[0mnp\u001b[0m\u001b[0;34m.\u001b[0m\u001b[0mtensordot\u001b[0m\u001b[0;34m(\u001b[0m\u001b[0mxv\u001b[0m\u001b[0;34m,\u001b[0m \u001b[0mW\u001b[0m\u001b[0;34m,\u001b[0m \u001b[0maxes\u001b[0m\u001b[0;34m=\u001b[0m\u001b[0;34m(\u001b[0m\u001b[0;34m[\u001b[0m\u001b[0;36m0\u001b[0m\u001b[0;34m,\u001b[0m\u001b[0;36m1\u001b[0m\u001b[0;34m]\u001b[0m\u001b[0;34m,\u001b[0m\u001b[0;34m[\u001b[0m\u001b[0;36m1\u001b[0m\u001b[0;34m]\u001b[0m\u001b[0;34m)\u001b[0m\u001b[0;34m)\u001b[0m\u001b[0;34m\u001b[0m\u001b[0;34m\u001b[0m\u001b[0m\n\u001b[0m",
      "\u001b[0;32m~/anaconda3/envs/ReconOrder/lib/python3.7/site-packages/numpy/core/numeric.py\u001b[0m in \u001b[0;36mtensordot\u001b[0;34m(a, b, axes)\u001b[0m\n\u001b[1;32m   1290\u001b[0m                 \u001b[0maxes_b\u001b[0m\u001b[0;34m[\u001b[0m\u001b[0mk\u001b[0m\u001b[0;34m]\u001b[0m \u001b[0;34m+=\u001b[0m \u001b[0mndb\u001b[0m\u001b[0;34m\u001b[0m\u001b[0;34m\u001b[0m\u001b[0m\n\u001b[1;32m   1291\u001b[0m     \u001b[0;32mif\u001b[0m \u001b[0;32mnot\u001b[0m \u001b[0mequal\u001b[0m\u001b[0;34m:\u001b[0m\u001b[0;34m\u001b[0m\u001b[0;34m\u001b[0m\u001b[0m\n\u001b[0;32m-> 1292\u001b[0;31m         \u001b[0;32mraise\u001b[0m \u001b[0mValueError\u001b[0m\u001b[0;34m(\u001b[0m\u001b[0;34m\"shape-mismatch for sum\"\u001b[0m\u001b[0;34m)\u001b[0m\u001b[0;34m\u001b[0m\u001b[0;34m\u001b[0m\u001b[0m\n\u001b[0m\u001b[1;32m   1293\u001b[0m \u001b[0;34m\u001b[0m\u001b[0m\n\u001b[1;32m   1294\u001b[0m     \u001b[0;31m# Move the axes to sum over to the end of \"a\"\u001b[0m\u001b[0;34m\u001b[0m\u001b[0;34m\u001b[0m\u001b[0;34m\u001b[0m\u001b[0m\n",
      "\u001b[0;31mValueError\u001b[0m: shape-mismatch for sum"
     ],
     "output_type": "error"
    }
   ],
   "source": [
    "test = np.random.random((16,16))\n",
    "W = np.ones(shape=(3,3))\n",
    "out = np.tensordot(xv, W, axes=([0,1],[1]))"
   ]
  },
  {
   "cell_type": "code",
   "execution_count": 5,
   "metadata": {},
   "outputs": [
    {
     "data": {
      "text/plain": [
       "<matplotlib.image.AxesImage at 0x1c23a84cf8>"
      ]
     },
     "execution_count": 5,
     "metadata": {},
     "output_type": "execute_result"
    },
    {
     "data": {
      "image/png": "[encoded data removed]",
      "text/plain": [
       "<Figure size 432x288 with 1 Axes>"
      ]
     },
     "metadata": {},
     "output_type": "display_data"
    }
   ],
   "source": [
    "\n",
    "space = np.linspace(0,16, 16, endpoint=False)\n",
    "xv, yv = np.meshgrid(space, space)\n",
    "plt.imshow(xv)"
   ]
  },
  {
   "cell_type": "code",
   "execution_count": 47,
   "metadata": {},
   "outputs": [
    {
     "data": {
      "text/plain": [
       "(16, 16)"
      ]
     },
     "execution_count": 47,
     "metadata": {},
     "output_type": "execute_result"
    }
   ],
   "source": [
    "xv.shape"
   ]
  },
  {
   "cell_type": "code",
   "execution_count": null,
   "metadata": {
    "collapsed": true
   },
   "outputs": [],
   "source": [
    "out = np.empty_like(xv).flatten()\n",
    "for idx, element in enumerate(xv.flatten()):\n",
    "    out[idx] = np.sum(xv[idx:idx+3, idx:idx+3])/9\n"
   ]
  },
  {
   "cell_type": "code",
   "execution_count": 50,
   "metadata": {
    "collapsed": true
   },
   "outputs": [],
   "source": [
    "out = np.empty_like(xv)\n",
    "for (x,y), element in np.ndenumerate(xv):\n",
    "    out[x][y] = np.sum(xv[x:x+3, y:y+3])/9\n"
   ]
  },
  {
   "cell_type": "code",
   "execution_count": 51,
   "metadata": {},
   "outputs": [
    {
     "data": {
      "text/plain": [
       "<matplotlib.image.AxesImage at 0x11c7d55c0>"
      ]
     },
     "execution_count": 51,
     "metadata": {},
     "output_type": "execute_result"
    },
    {
     "data": {
      "image/png": "[encoded data removed]",
      "text/plain": [
       "<Figure size 432x288 with 1 Axes>"
      ]
     },
     "metadata": {},
     "output_type": "display_data"
    }
   ],
   "source": [
    "plt.imshow(out.reshape(16,16))"
   ]
  },
  {
   "cell_type": "code",
   "execution_count": 59,
   "metadata": {},
   "outputs": [
    {
     "data": {
      "text/plain": [
       "(3, 16)"
      ]
     },
     "execution_count": 59,
     "metadata": {},
     "output_type": "execute_result"
    }
   ],
   "source": [
    "xv[0:3][0:3].shape"
   ]
  },
  {
   "cell_type": "code",
   "execution_count": 6,
   "metadata": {
    "collapsed": true
   },
   "outputs": [
    {
     "data": {
      "text/plain": [
       "<matplotlib.image.AxesImage at 0x1c23b4cb70>"
      ]
     },
     "execution_count": 6,
     "metadata": {},
     "output_type": "execute_result"
    },
    {
     "data": {
      "image/png": "[encoded data removed]",
      "text/plain": [
       "<Figure size 432x288 with 1 Axes>"
      ]
     },
     "metadata": {},
     "output_type": "display_data"
    }
   ],
   "source": [
    "plt.imshow(xv)"
   ]
  },
  {
   "cell_type": "code",
   "execution_count": null,
   "metadata": {},
   "outputs": [],
   "source": [
    "import scipy.signal as signal\n",
    "one = np.ones(shape=(12,12,1))\n",
    "two = 2*np.ones(shape=(12,12,1))\n"
   ]
  },
  {
   "cell_type": "code",
   "execution_count": 2,
   "metadata": {},
   "outputs": [],
   "source": [
    "import numpy as np\n",
    "xspace = np.linspace(0,512,512*2)\n",
    "yspace = np.linspace(0,512,512)\n",
    "xv, yv = np.meshgrid(xspace,yspace)\n",
    "pos = np.zeros(shape=(512*512*2,2))"
   ]
  },
  {
   "cell_type": "code",
   "execution_count": 7,
   "metadata": {},
   "outputs": [],
   "source": [
    "pos[:,0] = xv.flatten()\n",
    "pos[:,1] = yv.flatten()"
   ]
  },
  {
   "cell_type": "code",
   "execution_count": 20,
   "metadata": {},
   "outputs": [
    {
     "data": {
      "text/plain": [
       "array([424.41446725,  48.09393346])"
      ]
     },
     "execution_count": 20,
     "metadata": {},
     "output_type": "execute_result"
    }
   ],
   "source": [
    ""
   ]
  },
  {
   "cell_type": "code",
   "execution_count": 23,
   "metadata": {},
   "outputs": [],
   "source": [
    "%gui qt5\n",
    "\n",
    "from skimage import data\n",
    "from napari import ViewerApp"
   ]
  },
  {
   "cell_type": "code",
   "execution_count": 24,
   "metadata": {},
   "outputs": [],
   "source": [
    "viewer = ViewerApp(data.moon())\n"
   ]
  },
  {
   "cell_type": "code",
   "execution_count": 21,
   "metadata": {},
   "outputs": [
    {
     "name": "stderr",
     "output_type": "stream",
     "text": [
      "WARNING: Traceback (most recent call last):\n  File \"/Users/bryant.chhun/anaconda3/envs/ReconOrder/lib/python3.7/runpy.py\", line 193, in _run_module_as_main\n    \"__main__\", mod_spec)\n  File \"/Users/bryant.chhun/anaconda3/envs/ReconOrder/lib/python3.7/runpy.py\", line 85, in _run_code\n    exec(code, run_globals)\n  File \"/Users/bryant.chhun/anaconda3/envs/ReconOrder/lib/python3.7/site-packages/ipykernel_launcher.py\", line 16, in <module>\n    app.launch_new_instance()\n  File \"/Users/bryant.chhun/anaconda3/envs/ReconOrder/lib/python3.7/site-packages/traitlets/config/application.py\", line 658, in launch_instance\n    app.start()\n  File \"/Users/bryant.chhun/anaconda3/envs/ReconOrder/lib/python3.7/site-packages/ipykernel/kernelapp.py\", line 505, in start\n    self.io_loop.start()\n  File \"/Users/bryant.chhun/anaconda3/envs/ReconOrder/lib/python3.7/site-packages/tornado/platform/asyncio.py\", line 132, in start\n    self.asyncio_loop.run_forever()\n  File \"/Users/bryant.chhun/anaconda3/envs/ReconOrder/lib/python3.7/asyncio/base_events.py\", line 539, in run_forever\n    self._run_once()\n  File \"/Users/bryant.chhun/anaconda3/envs/ReconOrder/lib/python3.7/asyncio/base_events.py\", line 1775, in _run_once\n    handle._run()\n  File \"/Users/bryant.chhun/anaconda3/envs/ReconOrder/lib/python3.7/asyncio/events.py\", line 88, in _run\n    self._context.run(self._callback, *self._args)\n  File \"/Users/bryant.chhun/anaconda3/envs/ReconOrder/lib/python3.7/site-packages/tornado/ioloop.py\", line 758, in _run_callback\n    ret = callback()\n  File \"/Users/bryant.chhun/anaconda3/envs/ReconOrder/lib/python3.7/site-packages/tornado/stack_context.py\", line 300, in null_wrapper\n    return fn(*args, **kwargs)\n  File \"/Users/bryant.chhun/anaconda3/envs/ReconOrder/lib/python3.7/site-packages/tornado/gen.py\", line 1233, in inner\n    self.run()\n  File \"/Users/bryant.chhun/anaconda3/envs/ReconOrder/lib/python3.7/site-packages/tornado/gen.py\", line 1147, in run\n    yielded = self.gen.send(value)\n  File \"/Users/bryant.chhun/anaconda3/envs/ReconOrder/lib/python3.7/site-packages/ipykernel/kernelbase.py\", line 357, in process_one\n    yield gen.maybe_future(dispatch(*args))\n  File \"/Users/bryant.chhun/anaconda3/envs/ReconOrder/lib/python3.7/site-packages/tornado/gen.py\", line 326, in wrapper\n    yielded = next(result)\n  File \"/Users/bryant.chhun/anaconda3/envs/ReconOrder/lib/python3.7/site-packages/ipykernel/kernelbase.py\", line 267, in dispatch_shell\n    yield gen.maybe_future(handler(stream, idents, msg))\n  File \"/Users/bryant.chhun/anaconda3/envs/ReconOrder/lib/python3.7/site-packages/tornado/gen.py\", line 326, in wrapper\n    yielded = next(result)\n  File \"/Users/bryant.chhun/anaconda3/envs/ReconOrder/lib/python3.7/site-packages/ipykernel/kernelbase.py\", line 534, in execute_request\n    user_expressions, allow_stdin,\n  File \"/Users/bryant.chhun/anaconda3/envs/ReconOrder/lib/python3.7/site-packages/tornado/gen.py\", line 326, in wrapper\n    yielded = next(result)\n  File \"/Users/bryant.chhun/anaconda3/envs/ReconOrder/lib/python3.7/site-packages/ipykernel/ipkernel.py\", line 294, in do_execute\n    res = shell.run_cell(code, store_history=store_history, silent=silent)\n  File \"/Users/bryant.chhun/anaconda3/envs/ReconOrder/lib/python3.7/site-packages/ipykernel/zmqshell.py\", line 536, in run_cell\n    return super(ZMQInteractiveShell, self).run_cell(*args, **kwargs)\n  File \"/Users/bryant.chhun/anaconda3/envs/ReconOrder/lib/python3.7/site-packages/IPython/core/interactiveshell.py\", line 2819, in run_cell\n    raw_cell, store_history, silent, shell_futures)\n  File \"/Users/bryant.chhun/anaconda3/envs/ReconOrder/lib/python3.7/site-packages/IPython/core/interactiveshell.py\", line 2845, in _run_cell\n    return runner(coro)\n  File \"/Users/bryant.chhun/anaconda3/envs/ReconOrder/lib/python3.7/site-packages/IPython/core/async_helpers.py\", line 67, in _pseudo_sync_runner\n    coro.send(None)\n  File \"/Users/bryant.chhun/anaconda3/envs/ReconOrder/lib/python3.7/site-packages/IPython/core/interactiveshell.py\", line 3020, in run_cell_async\n    interactivity=interactivity, compiler=compiler, result=result)\n  File \"/Users/bryant.chhun/anaconda3/envs/ReconOrder/lib/python3.7/site-packages/IPython/core/interactiveshell.py\", line 3191, in run_ast_nodes\n    if (yield from self.run_code(code, result)):\n  File \"/Users/bryant.chhun/anaconda3/envs/ReconOrder/lib/python3.7/site-packages/IPython/core/interactiveshell.py\", line 3267, in run_code\n    exec(code_obj, self.user_global_ns, self.user_ns)\n  File \"<ipython-input-21-26df90dced4a>\", line 1, in <module>\n    viewer.add_layer(data.astronaut())\n  File \"/Users/bryant.chhun/PycharmProjects/napari-gui/napari/components/_viewer/model.py\", line 161, in add_layer\n    self.layers.append(layer)\n  File \"/Users/bryant.chhun/PycharmProjects/napari-gui/napari/util/list/_model.py\", line 51, in append\n    self.changed.added(item=object, index=len(self) - 1)\n  File \"/Users/bryant.chhun/PycharmProjects/napari-gui/napari/util/event.py\", line 489, in __call__\n    self._invoke_callback(cb, event)\n  File \"/Users/bryant.chhun/PycharmProjects/napari-gui/napari/util/event.py\", line 508, in _invoke_callback\n    self, cb_event=(cb, event))\n  << caught exception here: >>\n  File \"/Users/bryant.chhun/PycharmProjects/napari-gui/napari/util/event.py\", line 504, in _invoke_callback\n    cb(event)\n  File \"/Users/bryant.chhun/PycharmProjects/napari-gui/napari/components/_viewer/view/controls.py\", line 28, in _add\n    if layer._qt_controls is not None:\nAttributeError: 'numpy.ndarray' object has no attribute '_qt_controls'\n"
     ]
    },
    {
     "name": "stderr",
     "output_type": "stream",
     "text": [
      "ERROR: Invoking <bound method QtControls._add of <napari.components._viewer.view.controls.QtControls object at 0x1264053a8>> for Event\n"
     ]
    },
    {
     "name": "stderr",
     "output_type": "stream",
     "text": [
      "WARNING: Traceback (most recent call last):\n  File \"/Users/bryant.chhun/anaconda3/envs/ReconOrder/lib/python3.7/runpy.py\", line 193, in _run_module_as_main\n    \"__main__\", mod_spec)\n  File \"/Users/bryant.chhun/anaconda3/envs/ReconOrder/lib/python3.7/runpy.py\", line 85, in _run_code\n    exec(code, run_globals)\n  File \"/Users/bryant.chhun/anaconda3/envs/ReconOrder/lib/python3.7/site-packages/ipykernel_launcher.py\", line 16, in <module>\n    app.launch_new_instance()\n  File \"/Users/bryant.chhun/anaconda3/envs/ReconOrder/lib/python3.7/site-packages/traitlets/config/application.py\", line 658, in launch_instance\n    app.start()\n  File \"/Users/bryant.chhun/anaconda3/envs/ReconOrder/lib/python3.7/site-packages/ipykernel/kernelapp.py\", line 505, in start\n    self.io_loop.start()\n  File \"/Users/bryant.chhun/anaconda3/envs/ReconOrder/lib/python3.7/site-packages/tornado/platform/asyncio.py\", line 132, in start\n    self.asyncio_loop.run_forever()\n  File \"/Users/bryant.chhun/anaconda3/envs/ReconOrder/lib/python3.7/asyncio/base_events.py\", line 539, in run_forever\n    self._run_once()\n  File \"/Users/bryant.chhun/anaconda3/envs/ReconOrder/lib/python3.7/asyncio/base_events.py\", line 1775, in _run_once\n    handle._run()\n  File \"/Users/bryant.chhun/anaconda3/envs/ReconOrder/lib/python3.7/asyncio/events.py\", line 88, in _run\n    self._context.run(self._callback, *self._args)\n  File \"/Users/bryant.chhun/anaconda3/envs/ReconOrder/lib/python3.7/site-packages/tornado/ioloop.py\", line 758, in _run_callback\n    ret = callback()\n  File \"/Users/bryant.chhun/anaconda3/envs/ReconOrder/lib/python3.7/site-packages/tornado/stack_context.py\", line 300, in null_wrapper\n    return fn(*args, **kwargs)\n  File \"/Users/bryant.chhun/anaconda3/envs/ReconOrder/lib/python3.7/site-packages/tornado/gen.py\", line 1233, in inner\n    self.run()\n  File \"/Users/bryant.chhun/anaconda3/envs/ReconOrder/lib/python3.7/site-packages/tornado/gen.py\", line 1147, in run\n    yielded = self.gen.send(value)\n  File \"/Users/bryant.chhun/anaconda3/envs/ReconOrder/lib/python3.7/site-packages/ipykernel/kernelbase.py\", line 357, in process_one\n    yield gen.maybe_future(dispatch(*args))\n  File \"/Users/bryant.chhun/anaconda3/envs/ReconOrder/lib/python3.7/site-packages/tornado/gen.py\", line 326, in wrapper\n    yielded = next(result)\n  File \"/Users/bryant.chhun/anaconda3/envs/ReconOrder/lib/python3.7/site-packages/ipykernel/kernelbase.py\", line 267, in dispatch_shell\n    yield gen.maybe_future(handler(stream, idents, msg))\n  File \"/Users/bryant.chhun/anaconda3/envs/ReconOrder/lib/python3.7/site-packages/tornado/gen.py\", line 326, in wrapper\n    yielded = next(result)\n  File \"/Users/bryant.chhun/anaconda3/envs/ReconOrder/lib/python3.7/site-packages/ipykernel/kernelbase.py\", line 534, in execute_request\n    user_expressions, allow_stdin,\n  File \"/Users/bryant.chhun/anaconda3/envs/ReconOrder/lib/python3.7/site-packages/tornado/gen.py\", line 326, in wrapper\n    yielded = next(result)\n  File \"/Users/bryant.chhun/anaconda3/envs/ReconOrder/lib/python3.7/site-packages/ipykernel/ipkernel.py\", line 294, in do_execute\n    res = shell.run_cell(code, store_history=store_history, silent=silent)\n  File \"/Users/bryant.chhun/anaconda3/envs/ReconOrder/lib/python3.7/site-packages/ipykernel/zmqshell.py\", line 536, in run_cell\n    return super(ZMQInteractiveShell, self).run_cell(*args, **kwargs)\n  File \"/Users/bryant.chhun/anaconda3/envs/ReconOrder/lib/python3.7/site-packages/IPython/core/interactiveshell.py\", line 2819, in run_cell\n    raw_cell, store_history, silent, shell_futures)\n  File \"/Users/bryant.chhun/anaconda3/envs/ReconOrder/lib/python3.7/site-packages/IPython/core/interactiveshell.py\", line 2845, in _run_cell\n    return runner(coro)\n  File \"/Users/bryant.chhun/anaconda3/envs/ReconOrder/lib/python3.7/site-packages/IPython/core/async_helpers.py\", line 67, in _pseudo_sync_runner\n    coro.send(None)\n  File \"/Users/bryant.chhun/anaconda3/envs/ReconOrder/lib/python3.7/site-packages/IPython/core/interactiveshell.py\", line 3020, in run_cell_async\n    interactivity=interactivity, compiler=compiler, result=result)\n  File \"/Users/bryant.chhun/anaconda3/envs/ReconOrder/lib/python3.7/site-packages/IPython/core/interactiveshell.py\", line 3191, in run_ast_nodes\n    if (yield from self.run_code(code, result)):\n  File \"/Users/bryant.chhun/anaconda3/envs/ReconOrder/lib/python3.7/site-packages/IPython/core/interactiveshell.py\", line 3267, in run_code\n    exec(code_obj, self.user_global_ns, self.user_ns)\n  File \"<ipython-input-21-26df90dced4a>\", line 1, in <module>\n    viewer.add_layer(data.astronaut())\n  File \"/Users/bryant.chhun/PycharmProjects/napari-gui/napari/components/_viewer/model.py\", line 161, in add_layer\n    self.layers.append(layer)\n  File \"/Users/bryant.chhun/PycharmProjects/napari-gui/napari/util/list/_model.py\", line 51, in append\n    self.changed.added(item=object, index=len(self) - 1)\n  File \"/Users/bryant.chhun/PycharmProjects/napari-gui/napari/util/event.py\", line 489, in __call__\n    self._invoke_callback(cb, event)\n  File \"/Users/bryant.chhun/PycharmProjects/napari-gui/napari/util/event.py\", line 508, in _invoke_callback\n    self, cb_event=(cb, event))\n  << caught exception here: >>\n  File \"/Users/bryant.chhun/PycharmProjects/napari-gui/napari/util/event.py\", line 504, in _invoke_callback\n    cb(event)\n  File \"/Users/bryant.chhun/PycharmProjects/napari-gui/napari/components/_layers_list/view/list.py\", line 33, in _add\n    if layer._qt_properties is not None:\nAttributeError: 'numpy.ndarray' object has no attribute '_qt_properties'\n"
     ]
    },
    {
     "name": "stderr",
     "output_type": "stream",
     "text": [
      "ERROR: Invoking <bound method QtLayersList._add of <napari.components._layers_list.view.list.QtLayersList object at 0x1263d8b88>> for Event\n"
     ]
    },
    {
     "name": "stderr",
     "output_type": "stream",
     "text": [
      "WARNING: Traceback (most recent call last):\n  File \"/Users/bryant.chhun/anaconda3/envs/ReconOrder/lib/python3.7/runpy.py\", line 193, in _run_module_as_main\n    \"__main__\", mod_spec)\n  File \"/Users/bryant.chhun/anaconda3/envs/ReconOrder/lib/python3.7/runpy.py\", line 85, in _run_code\n    exec(code, run_globals)\n  File \"/Users/bryant.chhun/anaconda3/envs/ReconOrder/lib/python3.7/site-packages/ipykernel_launcher.py\", line 16, in <module>\n    app.launch_new_instance()\n  File \"/Users/bryant.chhun/anaconda3/envs/ReconOrder/lib/python3.7/site-packages/traitlets/config/application.py\", line 658, in launch_instance\n    app.start()\n  File \"/Users/bryant.chhun/anaconda3/envs/ReconOrder/lib/python3.7/site-packages/ipykernel/kernelapp.py\", line 505, in start\n    self.io_loop.start()\n  File \"/Users/bryant.chhun/anaconda3/envs/ReconOrder/lib/python3.7/site-packages/tornado/platform/asyncio.py\", line 132, in start\n    self.asyncio_loop.run_forever()\n  File \"/Users/bryant.chhun/anaconda3/envs/ReconOrder/lib/python3.7/asyncio/base_events.py\", line 539, in run_forever\n    self._run_once()\n  File \"/Users/bryant.chhun/anaconda3/envs/ReconOrder/lib/python3.7/asyncio/base_events.py\", line 1775, in _run_once\n    handle._run()\n  File \"/Users/bryant.chhun/anaconda3/envs/ReconOrder/lib/python3.7/asyncio/events.py\", line 88, in _run\n    self._context.run(self._callback, *self._args)\n  File \"/Users/bryant.chhun/anaconda3/envs/ReconOrder/lib/python3.7/site-packages/tornado/ioloop.py\", line 758, in _run_callback\n    ret = callback()\n  File \"/Users/bryant.chhun/anaconda3/envs/ReconOrder/lib/python3.7/site-packages/tornado/stack_context.py\", line 300, in null_wrapper\n    return fn(*args, **kwargs)\n  File \"/Users/bryant.chhun/anaconda3/envs/ReconOrder/lib/python3.7/site-packages/tornado/gen.py\", line 1233, in inner\n    self.run()\n  File \"/Users/bryant.chhun/anaconda3/envs/ReconOrder/lib/python3.7/site-packages/tornado/gen.py\", line 1147, in run\n    yielded = self.gen.send(value)\n  File \"/Users/bryant.chhun/anaconda3/envs/ReconOrder/lib/python3.7/site-packages/ipykernel/kernelbase.py\", line 357, in process_one\n    yield gen.maybe_future(dispatch(*args))\n  File \"/Users/bryant.chhun/anaconda3/envs/ReconOrder/lib/python3.7/site-packages/tornado/gen.py\", line 326, in wrapper\n    yielded = next(result)\n  File \"/Users/bryant.chhun/anaconda3/envs/ReconOrder/lib/python3.7/site-packages/ipykernel/kernelbase.py\", line 267, in dispatch_shell\n    yield gen.maybe_future(handler(stream, idents, msg))\n  File \"/Users/bryant.chhun/anaconda3/envs/ReconOrder/lib/python3.7/site-packages/tornado/gen.py\", line 326, in wrapper\n    yielded = next(result)\n  File \"/Users/bryant.chhun/anaconda3/envs/ReconOrder/lib/python3.7/site-packages/ipykernel/kernelbase.py\", line 534, in execute_request\n    user_expressions, allow_stdin,\n  File \"/Users/bryant.chhun/anaconda3/envs/ReconOrder/lib/python3.7/site-packages/tornado/gen.py\", line 326, in wrapper\n    yielded = next(result)\n  File \"/Users/bryant.chhun/anaconda3/envs/ReconOrder/lib/python3.7/site-packages/ipykernel/ipkernel.py\", line 294, in do_execute\n    res = shell.run_cell(code, store_history=store_history, silent=silent)\n  File \"/Users/bryant.chhun/anaconda3/envs/ReconOrder/lib/python3.7/site-packages/ipykernel/zmqshell.py\", line 536, in run_cell\n    return super(ZMQInteractiveShell, self).run_cell(*args, **kwargs)\n  File \"/Users/bryant.chhun/anaconda3/envs/ReconOrder/lib/python3.7/site-packages/IPython/core/interactiveshell.py\", line 2819, in run_cell\n    raw_cell, store_history, silent, shell_futures)\n  File \"/Users/bryant.chhun/anaconda3/envs/ReconOrder/lib/python3.7/site-packages/IPython/core/interactiveshell.py\", line 2845, in _run_cell\n    return runner(coro)\n  File \"/Users/bryant.chhun/anaconda3/envs/ReconOrder/lib/python3.7/site-packages/IPython/core/async_helpers.py\", line 67, in _pseudo_sync_runner\n    coro.send(None)\n  File \"/Users/bryant.chhun/anaconda3/envs/ReconOrder/lib/python3.7/site-packages/IPython/core/interactiveshell.py\", line 3020, in run_cell_async\n    interactivity=interactivity, compiler=compiler, result=result)\n  File \"/Users/bryant.chhun/anaconda3/envs/ReconOrder/lib/python3.7/site-packages/IPython/core/interactiveshell.py\", line 3191, in run_ast_nodes\n    if (yield from self.run_code(code, result)):\n  File \"/Users/bryant.chhun/anaconda3/envs/ReconOrder/lib/python3.7/site-packages/IPython/core/interactiveshell.py\", line 3267, in run_code\n    exec(code_obj, self.user_global_ns, self.user_ns)\n  File \"<ipython-input-21-26df90dced4a>\", line 1, in <module>\n    viewer.add_layer(data.astronaut())\n  File \"/Users/bryant.chhun/PycharmProjects/napari-gui/napari/components/_viewer/model.py\", line 161, in add_layer\n    self.layers.append(layer)\n  File \"/Users/bryant.chhun/PycharmProjects/napari-gui/napari/util/list/_model.py\", line 51, in append\n    self.changed.added(item=object, index=len(self) - 1)\n  File \"/Users/bryant.chhun/PycharmProjects/napari-gui/napari/util/event.py\", line 489, in __call__\n    self._invoke_callback(cb, event)\n  File \"/Users/bryant.chhun/PycharmProjects/napari-gui/napari/util/event.py\", line 508, in _invoke_callback\n    self, cb_event=(cb, event))\n  << caught exception here: >>\n  File \"/Users/bryant.chhun/PycharmProjects/napari-gui/napari/util/event.py\", line 504, in _invoke_callback\n    cb(event)\n  File \"/Users/bryant.chhun/PycharmProjects/napari-gui/napari/components/_viewer/model.py\", line 183, in _update_layer_selection\n    for layer in self.layers[::-1]:\n  File \"/Users/bryant.chhun/PycharmProjects/napari-gui/napari/util/list/_base.py\", line 31, in __getitem__\n    return self.__newlike__(super(List, self).__getitem__(i) for i in indices)\n  File \"/Users/bryant.chhun/PycharmProjects/napari-gui/napari/components/_layers_list/model.py\", line 79, in __newlike__\n    return ListModel(self._basetype, iterable, self._lookup)\n  File \"/Users/bryant.chhun/PycharmProjects/napari-gui/napari/util/list/_model.py\", line 27, in __init__\n    super().__init__(basetype, iterable, lookup)\n  File \"/Users/bryant.chhun/PycharmProjects/napari-gui/napari/util/list/_typed.py\", line 26, in __init__\n    super().__init__(self._check(e) for e in iterable)\n  File \"/Users/bryant.chhun/PycharmProjects/napari-gui/napari/util/list/_typed.py\", line 26, in <genexpr>\n    super().__init__(self._check(e) for e in iterable)\n  File \"/Users/bryant.chhun/PycharmProjects/napari-gui/napari/util/list/_typed.py\", line 43, in _check\n    raise TypeError(f'expected {cpprint(self._basetype)}; '\nTypeError: expected Layer; got ndarray\n"
     ]
    },
    {
     "name": "stderr",
     "output_type": "stream",
     "text": [
      "ERROR: Invoking <bound method Viewer._update_layer_selection of <napari.viewer.ViewerApp object at 0x1263afd68>> for Event\n"
     ]
    },
    {
     "name": "stderr",
     "output_type": "stream",
     "text": [
      "WARNING: Traceback (most recent call last):\n  File \"/Users/bryant.chhun/anaconda3/envs/ReconOrder/lib/python3.7/runpy.py\", line 193, in _run_module_as_main\n    \"__main__\", mod_spec)\n  File \"/Users/bryant.chhun/anaconda3/envs/ReconOrder/lib/python3.7/runpy.py\", line 85, in _run_code\n    exec(code, run_globals)\n  File \"/Users/bryant.chhun/anaconda3/envs/ReconOrder/lib/python3.7/site-packages/ipykernel_launcher.py\", line 16, in <module>\n    app.launch_new_instance()\n  File \"/Users/bryant.chhun/anaconda3/envs/ReconOrder/lib/python3.7/site-packages/traitlets/config/application.py\", line 658, in launch_instance\n    app.start()\n  File \"/Users/bryant.chhun/anaconda3/envs/ReconOrder/lib/python3.7/site-packages/ipykernel/kernelapp.py\", line 505, in start\n    self.io_loop.start()\n  File \"/Users/bryant.chhun/anaconda3/envs/ReconOrder/lib/python3.7/site-packages/tornado/platform/asyncio.py\", line 132, in start\n    self.asyncio_loop.run_forever()\n  File \"/Users/bryant.chhun/anaconda3/envs/ReconOrder/lib/python3.7/asyncio/base_events.py\", line 539, in run_forever\n    self._run_once()\n  File \"/Users/bryant.chhun/anaconda3/envs/ReconOrder/lib/python3.7/asyncio/base_events.py\", line 1775, in _run_once\n    handle._run()\n  File \"/Users/bryant.chhun/anaconda3/envs/ReconOrder/lib/python3.7/asyncio/events.py\", line 88, in _run\n    self._context.run(self._callback, *self._args)\n  File \"/Users/bryant.chhun/anaconda3/envs/ReconOrder/lib/python3.7/site-packages/tornado/ioloop.py\", line 758, in _run_callback\n    ret = callback()\n  File \"/Users/bryant.chhun/anaconda3/envs/ReconOrder/lib/python3.7/site-packages/tornado/stack_context.py\", line 300, in null_wrapper\n    return fn(*args, **kwargs)\n  File \"/Users/bryant.chhun/anaconda3/envs/ReconOrder/lib/python3.7/site-packages/tornado/gen.py\", line 1233, in inner\n    self.run()\n  File \"/Users/bryant.chhun/anaconda3/envs/ReconOrder/lib/python3.7/site-packages/tornado/gen.py\", line 1147, in run\n    yielded = self.gen.send(value)\n  File \"/Users/bryant.chhun/anaconda3/envs/ReconOrder/lib/python3.7/site-packages/ipykernel/kernelbase.py\", line 357, in process_one\n    yield gen.maybe_future(dispatch(*args))\n  File \"/Users/bryant.chhun/anaconda3/envs/ReconOrder/lib/python3.7/site-packages/tornado/gen.py\", line 326, in wrapper\n    yielded = next(result)\n  File \"/Users/bryant.chhun/anaconda3/envs/ReconOrder/lib/python3.7/site-packages/ipykernel/kernelbase.py\", line 267, in dispatch_shell\n    yield gen.maybe_future(handler(stream, idents, msg))\n  File \"/Users/bryant.chhun/anaconda3/envs/ReconOrder/lib/python3.7/site-packages/tornado/gen.py\", line 326, in wrapper\n    yielded = next(result)\n  File \"/Users/bryant.chhun/anaconda3/envs/ReconOrder/lib/python3.7/site-packages/ipykernel/kernelbase.py\", line 534, in execute_request\n    user_expressions, allow_stdin,\n  File \"/Users/bryant.chhun/anaconda3/envs/ReconOrder/lib/python3.7/site-packages/tornado/gen.py\", line 326, in wrapper\n    yielded = next(result)\n  File \"/Users/bryant.chhun/anaconda3/envs/ReconOrder/lib/python3.7/site-packages/ipykernel/ipkernel.py\", line 294, in do_execute\n    res = shell.run_cell(code, store_history=store_history, silent=silent)\n  File \"/Users/bryant.chhun/anaconda3/envs/ReconOrder/lib/python3.7/site-packages/ipykernel/zmqshell.py\", line 536, in run_cell\n    return super(ZMQInteractiveShell, self).run_cell(*args, **kwargs)\n  File \"/Users/bryant.chhun/anaconda3/envs/ReconOrder/lib/python3.7/site-packages/IPython/core/interactiveshell.py\", line 2819, in run_cell\n    raw_cell, store_history, silent, shell_futures)\n  File \"/Users/bryant.chhun/anaconda3/envs/ReconOrder/lib/python3.7/site-packages/IPython/core/interactiveshell.py\", line 2845, in _run_cell\n    return runner(coro)\n  File \"/Users/bryant.chhun/anaconda3/envs/ReconOrder/lib/python3.7/site-packages/IPython/core/async_helpers.py\", line 67, in _pseudo_sync_runner\n    coro.send(None)\n  File \"/Users/bryant.chhun/anaconda3/envs/ReconOrder/lib/python3.7/site-packages/IPython/core/interactiveshell.py\", line 3020, in run_cell_async\n    interactivity=interactivity, compiler=compiler, result=result)\n  File \"/Users/bryant.chhun/anaconda3/envs/ReconOrder/lib/python3.7/site-packages/IPython/core/interactiveshell.py\", line 3191, in run_ast_nodes\n    if (yield from self.run_code(code, result)):\n  File \"/Users/bryant.chhun/anaconda3/envs/ReconOrder/lib/python3.7/site-packages/IPython/core/interactiveshell.py\", line 3267, in run_code\n    exec(code_obj, self.user_global_ns, self.user_ns)\n  File \"<ipython-input-21-26df90dced4a>\", line 1, in <module>\n    viewer.add_layer(data.astronaut())\n  File \"/Users/bryant.chhun/PycharmProjects/napari-gui/napari/components/_viewer/model.py\", line 161, in add_layer\n    self.layers.append(layer)\n  File \"/Users/bryant.chhun/PycharmProjects/napari-gui/napari/util/list/_model.py\", line 51, in append\n    self.changed.added(item=object, index=len(self) - 1)\n  File \"/Users/bryant.chhun/PycharmProjects/napari-gui/napari/util/event.py\", line 489, in __call__\n    self._invoke_callback(cb, event)\n  File \"/Users/bryant.chhun/PycharmProjects/napari-gui/napari/util/event.py\", line 508, in _invoke_callback\n    self, cb_event=(cb, event))\n  << caught exception here: >>\n  File \"/Users/bryant.chhun/PycharmProjects/napari-gui/napari/util/event.py\", line 504, in _invoke_callback\n    cb(event)\n  File \"/Users/bryant.chhun/PycharmProjects/napari-gui/napari/components/_layers_list/model.py\", line 16, in _add\n    layer.name = layers._coerce_name(layer.name, layer)\nAttributeError: 'numpy.ndarray' object has no attribute 'name'\n"
     ]
    },
    {
     "name": "stderr",
     "output_type": "stream",
     "text": [
      "ERROR: Invoking <function _add at 0x118e042f0> for Event\n"
     ]
    }
   ],
   "source": [
    ""
   ]
  },
  {
   "cell_type": "code",
   "execution_count": 11,
   "metadata": {},
   "outputs": [
    {
     "data": {
      "text/plain": [
       "<Image layer 'Image 0' at 0x123810208>"
      ]
     },
     "execution_count": 11,
     "metadata": {},
     "output_type": "execute_result"
    }
   ],
   "source": [
    ""
   ]
  },
  {
   "cell_type": "code",
   "execution_count": 15,
   "metadata": {},
   "outputs": [
    {
     "name": "stderr",
     "output_type": "stream",
     "text": [
      "WARNING: Traceback (most recent call last):\n  File \"/Users/bryant.chhun/anaconda3/envs/ReconOrder/lib/python3.7/runpy.py\", line 193, in _run_module_as_main\n    \"__main__\", mod_spec)\n  File \"/Users/bryant.chhun/anaconda3/envs/ReconOrder/lib/python3.7/runpy.py\", line 85, in _run_code\n    exec(code, run_globals)\n  File \"/Users/bryant.chhun/anaconda3/envs/ReconOrder/lib/python3.7/site-packages/ipykernel_launcher.py\", line 16, in <module>\n    app.launch_new_instance()\n  File \"/Users/bryant.chhun/anaconda3/envs/ReconOrder/lib/python3.7/site-packages/traitlets/config/application.py\", line 658, in launch_instance\n    app.start()\n  File \"/Users/bryant.chhun/anaconda3/envs/ReconOrder/lib/python3.7/site-packages/ipykernel/kernelapp.py\", line 505, in start\n    self.io_loop.start()\n  File \"/Users/bryant.chhun/anaconda3/envs/ReconOrder/lib/python3.7/site-packages/tornado/platform/asyncio.py\", line 132, in start\n    self.asyncio_loop.run_forever()\n  File \"/Users/bryant.chhun/anaconda3/envs/ReconOrder/lib/python3.7/asyncio/base_events.py\", line 539, in run_forever\n    self._run_once()\n  File \"/Users/bryant.chhun/anaconda3/envs/ReconOrder/lib/python3.7/asyncio/base_events.py\", line 1775, in _run_once\n    handle._run()\n  File \"/Users/bryant.chhun/anaconda3/envs/ReconOrder/lib/python3.7/asyncio/events.py\", line 88, in _run\n    self._context.run(self._callback, *self._args)\n  File \"/Users/bryant.chhun/anaconda3/envs/ReconOrder/lib/python3.7/site-packages/tornado/ioloop.py\", line 758, in _run_callback\n    ret = callback()\n  File \"/Users/bryant.chhun/anaconda3/envs/ReconOrder/lib/python3.7/site-packages/tornado/stack_context.py\", line 300, in null_wrapper\n    return fn(*args, **kwargs)\n  File \"/Users/bryant.chhun/anaconda3/envs/ReconOrder/lib/python3.7/site-packages/tornado/gen.py\", line 1233, in inner\n    self.run()\n  File \"/Users/bryant.chhun/anaconda3/envs/ReconOrder/lib/python3.7/site-packages/tornado/gen.py\", line 1147, in run\n    yielded = self.gen.send(value)\n  File \"/Users/bryant.chhun/anaconda3/envs/ReconOrder/lib/python3.7/site-packages/ipykernel/kernelbase.py\", line 370, in dispatch_queue\n    yield self.process_one()\n  File \"/Users/bryant.chhun/anaconda3/envs/ReconOrder/lib/python3.7/site-packages/tornado/gen.py\", line 346, in wrapper\n    runner = Runner(result, future, yielded)\n  File \"/Users/bryant.chhun/anaconda3/envs/ReconOrder/lib/python3.7/site-packages/tornado/gen.py\", line 1080, in __init__\n    self.run()\n  File \"/Users/bryant.chhun/anaconda3/envs/ReconOrder/lib/python3.7/site-packages/tornado/gen.py\", line 1147, in run\n    yielded = self.gen.send(value)\n  File \"/Users/bryant.chhun/anaconda3/envs/ReconOrder/lib/python3.7/site-packages/ipykernel/kernelbase.py\", line 357, in process_one\n    yield gen.maybe_future(dispatch(*args))\n  File \"/Users/bryant.chhun/anaconda3/envs/ReconOrder/lib/python3.7/site-packages/tornado/gen.py\", line 326, in wrapper\n    yielded = next(result)\n  File \"/Users/bryant.chhun/anaconda3/envs/ReconOrder/lib/python3.7/site-packages/ipykernel/kernelbase.py\", line 267, in dispatch_shell\n    yield gen.maybe_future(handler(stream, idents, msg))\n  File \"/Users/bryant.chhun/anaconda3/envs/ReconOrder/lib/python3.7/site-packages/tornado/gen.py\", line 326, in wrapper\n    yielded = next(result)\n  File \"/Users/bryant.chhun/anaconda3/envs/ReconOrder/lib/python3.7/site-packages/ipykernel/kernelbase.py\", line 534, in execute_request\n    user_expressions, allow_stdin,\n  File \"/Users/bryant.chhun/anaconda3/envs/ReconOrder/lib/python3.7/site-packages/tornado/gen.py\", line 326, in wrapper\n    yielded = next(result)\n  File \"/Users/bryant.chhun/anaconda3/envs/ReconOrder/lib/python3.7/site-packages/ipykernel/ipkernel.py\", line 294, in do_execute\n    res = shell.run_cell(code, store_history=store_history, silent=silent)\n  File \"/Users/bryant.chhun/anaconda3/envs/ReconOrder/lib/python3.7/site-packages/ipykernel/zmqshell.py\", line 536, in run_cell\n    return super(ZMQInteractiveShell, self).run_cell(*args, **kwargs)\n  File \"/Users/bryant.chhun/anaconda3/envs/ReconOrder/lib/python3.7/site-packages/IPython/core/interactiveshell.py\", line 2819, in run_cell\n    raw_cell, store_history, silent, shell_futures)\n  File \"/Users/bryant.chhun/anaconda3/envs/ReconOrder/lib/python3.7/site-packages/IPython/core/interactiveshell.py\", line 2845, in _run_cell\n    return runner(coro)\n  File \"/Users/bryant.chhun/anaconda3/envs/ReconOrder/lib/python3.7/site-packages/IPython/core/async_helpers.py\", line 67, in _pseudo_sync_runner\n    coro.send(None)\n  File \"/Users/bryant.chhun/anaconda3/envs/ReconOrder/lib/python3.7/site-packages/IPython/core/interactiveshell.py\", line 3020, in run_cell_async\n    interactivity=interactivity, compiler=compiler, result=result)\n  File \"/Users/bryant.chhun/anaconda3/envs/ReconOrder/lib/python3.7/site-packages/IPython/core/interactiveshell.py\", line 3191, in run_ast_nodes\n    if (yield from self.run_code(code, result)):\n  File \"/Users/bryant.chhun/anaconda3/envs/ReconOrder/lib/python3.7/site-packages/IPython/core/interactiveshell.py\", line 3267, in run_code\n    exec(code_obj, self.user_global_ns, self.user_ns)\n  File \"<ipython-input-15-dca6813405ee>\", line 1, in <module>\n    viewer.layers.pop(0)\n  File \"/Users/bryant.chhun/PycharmProjects/napari-gui/napari/util/list/_model.py\", line 55, in pop\n    self.changed.removed(item=obj)\n  File \"/Users/bryant.chhun/PycharmProjects/napari-gui/napari/util/event.py\", line 489, in __call__\n    self._invoke_callback(cb, event)\n  File \"/Users/bryant.chhun/PycharmProjects/napari-gui/napari/util/event.py\", line 504, in _invoke_callback\n    cb(event)\n  File \"/Users/bryant.chhun/PycharmProjects/napari-gui/napari/components/_dims/model.py\", line 118, in _on_layers_change\n    self._update()\n  File \"/Users/bryant.chhun/PycharmProjects/napari-gui/napari/components/_dims/model.py\", line 135, in _update\n    self._calc_max_dims()\n  File \"/Users/bryant.chhun/PycharmProjects/napari-gui/napari/components/_dims/model.py\", line 106, in _calc_max_dims\n    self._update()\n  File \"/Users/bryant.chhun/PycharmProjects/napari-gui/napari/components/_dims/model.py\", line 143, in _update\n    self._update_sliders()\n  File \"/Users/bryant.chhun/PycharmProjects/napari-gui/napari/components/_dims/model.py\", line 86, in _update_sliders\n    max_dims=max_dims)\n  File \"/Users/bryant.chhun/PycharmProjects/napari-gui/napari/util/event.py\", line 489, in __call__\n    self._invoke_callback(cb, event)\n  File \"/Users/bryant.chhun/PycharmProjects/napari-gui/napari/util/event.py\", line 508, in _invoke_callback\n    self, cb_event=(cb, event))\n  << caught exception here: >>\n  File \"/Users/bryant.chhun/PycharmProjects/napari-gui/napari/util/event.py\", line 504, in _invoke_callback\n    cb(event)\n  File \"/Users/bryant.chhun/PycharmProjects/napari-gui/napari/components/_dims/view.py\", line 56, in update_slider\n    row = self._axis_to_row(axis, max_dims)\n  File \"/Users/bryant.chhun/PycharmProjects/napari-gui/napari/components/_dims/view.py\", line 28, in _axis_to_row\n    raise IndexError(message)\nIndexError: axis 2 out of bounds for 0 dims\n"
     ]
    },
    {
     "name": "stderr",
     "output_type": "stream",
     "text": [
      "ERROR: Invoking <bound method QtDims.update_slider of <napari.components._dims.view.QtDims object at 0x11dc82948>> for Event\n"
     ]
    },
    {
     "data": {
      "text/plain": [
       "<Image layer 'Image 0' at 0x123810208>"
      ]
     },
     "execution_count": 15,
     "metadata": {},
     "output_type": "execute_result"
    }
   ],
   "source": [
    "viewer.layers.pop(0)"
   ]
  },
  {
   "cell_type": "code",
   "execution_count": 17,
   "metadata": {
    "collapsed": true
   },
   "outputs": [
    {
     "ename": "TypeError",
     "evalue": "expected Layer; got ndarray",
     "traceback": [
      "\u001b[0;31m---------------------------------------------------------------------------\u001b[0m",
      "\u001b[0;31mTypeError\u001b[0m                                 Traceback (most recent call last)",
      "\u001b[0;32m<ipython-input-17-f052f5a224da>\u001b[0m in \u001b[0;36m<module>\u001b[0;34m\u001b[0m\n\u001b[0;32m----> 1\u001b[0;31m \u001b[0mviewer\u001b[0m\u001b[0;34m.\u001b[0m\u001b[0mlayers\u001b[0m\u001b[0;34m.\u001b[0m\u001b[0minsert\u001b[0m\u001b[0;34m(\u001b[0m\u001b[0;36m0\u001b[0m\u001b[0;34m,\u001b[0m \u001b[0mdata\u001b[0m\u001b[0;34m.\u001b[0m\u001b[0mastronaut\u001b[0m\u001b[0;34m(\u001b[0m\u001b[0;34m)\u001b[0m\u001b[0;34m)\u001b[0m\u001b[0;34m\u001b[0m\u001b[0;34m\u001b[0m\u001b[0m\n\u001b[0m",
      "\u001b[0;32m~/PycharmProjects/napari-gui/napari/util/list/_model.py\u001b[0m in \u001b[0;36minsert\u001b[0;34m(self, index, object)\u001b[0m\n\u001b[1;32m     44\u001b[0m \u001b[0;34m\u001b[0m\u001b[0m\n\u001b[1;32m     45\u001b[0m     \u001b[0;32mdef\u001b[0m \u001b[0minsert\u001b[0m\u001b[0;34m(\u001b[0m\u001b[0mself\u001b[0m\u001b[0;34m,\u001b[0m \u001b[0mindex\u001b[0m\u001b[0;34m,\u001b[0m \u001b[0mobject\u001b[0m\u001b[0;34m)\u001b[0m\u001b[0;34m:\u001b[0m\u001b[0;34m\u001b[0m\u001b[0;34m\u001b[0m\u001b[0m\n\u001b[0;32m---> 46\u001b[0;31m         \u001b[0msuper\u001b[0m\u001b[0;34m(\u001b[0m\u001b[0;34m)\u001b[0m\u001b[0;34m.\u001b[0m\u001b[0minsert\u001b[0m\u001b[0;34m(\u001b[0m\u001b[0mindex\u001b[0m\u001b[0;34m,\u001b[0m \u001b[0mobject\u001b[0m\u001b[0;34m)\u001b[0m\u001b[0;34m\u001b[0m\u001b[0;34m\u001b[0m\u001b[0m\n\u001b[0m\u001b[1;32m     47\u001b[0m         \u001b[0mself\u001b[0m\u001b[0;34m.\u001b[0m\u001b[0mchanged\u001b[0m\u001b[0;34m.\u001b[0m\u001b[0madded\u001b[0m\u001b[0;34m(\u001b[0m\u001b[0mitem\u001b[0m\u001b[0;34m=\u001b[0m\u001b[0mobject\u001b[0m\u001b[0;34m,\u001b[0m \u001b[0mindex\u001b[0m\u001b[0;34m=\u001b[0m\u001b[0mself\u001b[0m\u001b[0;34m.\u001b[0m\u001b[0m__locitem__\u001b[0m\u001b[0;34m(\u001b[0m\u001b[0mindex\u001b[0m\u001b[0;34m)\u001b[0m\u001b[0;34m)\u001b[0m\u001b[0;34m\u001b[0m\u001b[0;34m\u001b[0m\u001b[0m\n\u001b[1;32m     48\u001b[0m \u001b[0;34m\u001b[0m\u001b[0m\n",
      "\u001b[0;32m~/PycharmProjects/napari-gui/napari/util/list/_typed.py\u001b[0m in \u001b[0;36minsert\u001b[0;34m(self, key, object)\u001b[0m\n\u001b[1;32m     46\u001b[0m \u001b[0;34m\u001b[0m\u001b[0m\n\u001b[1;32m     47\u001b[0m     \u001b[0;32mdef\u001b[0m \u001b[0minsert\u001b[0m\u001b[0;34m(\u001b[0m\u001b[0mself\u001b[0m\u001b[0;34m,\u001b[0m \u001b[0mkey\u001b[0m\u001b[0;34m,\u001b[0m \u001b[0mobject\u001b[0m\u001b[0;34m)\u001b[0m\u001b[0;34m:\u001b[0m\u001b[0;34m\u001b[0m\u001b[0;34m\u001b[0m\u001b[0m\n\u001b[0;32m---> 48\u001b[0;31m         \u001b[0mself\u001b[0m\u001b[0;34m.\u001b[0m\u001b[0m_check\u001b[0m\u001b[0;34m(\u001b[0m\u001b[0mobject\u001b[0m\u001b[0;34m)\u001b[0m\u001b[0;34m\u001b[0m\u001b[0;34m\u001b[0m\u001b[0m\n\u001b[0m\u001b[1;32m     49\u001b[0m         \u001b[0msuper\u001b[0m\u001b[0;34m(\u001b[0m\u001b[0;34m)\u001b[0m\u001b[0;34m.\u001b[0m\u001b[0minsert\u001b[0m\u001b[0;34m(\u001b[0m\u001b[0mkey\u001b[0m\u001b[0;34m,\u001b[0m \u001b[0mobject\u001b[0m\u001b[0;34m)\u001b[0m\u001b[0;34m\u001b[0m\u001b[0;34m\u001b[0m\u001b[0m\n\u001b[1;32m     50\u001b[0m \u001b[0;34m\u001b[0m\u001b[0m\n",
      "\u001b[0;32m~/PycharmProjects/napari-gui/napari/util/list/_typed.py\u001b[0m in \u001b[0;36m_check\u001b[0;34m(self, e)\u001b[0m\n\u001b[1;32m     41\u001b[0m     \u001b[0;32mdef\u001b[0m \u001b[0m_check\u001b[0m\u001b[0;34m(\u001b[0m\u001b[0mself\u001b[0m\u001b[0;34m,\u001b[0m \u001b[0me\u001b[0m\u001b[0;34m)\u001b[0m\u001b[0;34m:\u001b[0m\u001b[0;34m\u001b[0m\u001b[0;34m\u001b[0m\u001b[0m\n\u001b[1;32m     42\u001b[0m         \u001b[0;32mif\u001b[0m \u001b[0;32mnot\u001b[0m \u001b[0misinstance\u001b[0m\u001b[0;34m(\u001b[0m\u001b[0me\u001b[0m\u001b[0;34m,\u001b[0m \u001b[0mself\u001b[0m\u001b[0;34m.\u001b[0m\u001b[0m_basetype\u001b[0m\u001b[0;34m)\u001b[0m\u001b[0;34m:\u001b[0m\u001b[0;34m\u001b[0m\u001b[0;34m\u001b[0m\u001b[0m\n\u001b[0;32m---> 43\u001b[0;31m             raise TypeError(f'expected {cpprint(self._basetype)}; '\n\u001b[0m\u001b[1;32m     44\u001b[0m                             f'got {cpprint(type(e))}')\n\u001b[1;32m     45\u001b[0m         \u001b[0;32mreturn\u001b[0m \u001b[0me\u001b[0m\u001b[0;34m\u001b[0m\u001b[0;34m\u001b[0m\u001b[0m\n",
      "\u001b[0;31mTypeError\u001b[0m: expected Layer; got ndarray"
     ],
     "output_type": "error"
    }
   ],
   "source": [
    ""
   ]
  },
  {
   "cell_type": "code",
   "execution_count": null,
   "metadata": {},
   "outputs": [],
   "source": []
  }
 ],
 "metadata": {
  "kernelspec": {
   "display_name": "Python 2",
   "language": "python",
   "name": "python2"
  },
  "language_info": {
   "codemirror_mode": {
    "name": "ipython",
    "version": 2
   },
   "file_extension": ".py",
   "mimetype": "text/x-python",
   "name": "python",
   "nbconvert_exporter": "python",
   "pygments_lexer": "ipython2",
   "version": "2.7.6"
  }
 },
 "nbformat": 4,
 "nbformat_minor": 0
}
